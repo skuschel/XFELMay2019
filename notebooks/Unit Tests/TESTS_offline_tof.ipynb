{
 "cells": [
  {
   "cell_type": "markdown",
   "metadata": {},
   "source": [
    "This notebook tests whether the sqs.offline -> tof submodule behaves as expected"
   ]
  },
  {
   "cell_type": "code",
   "execution_count": 1,
   "metadata": {},
   "outputs": [
    {
     "name": "stdout",
     "output_type": "stream",
     "text": [
      "Welcome to sqs_nqs_tools version v0.1+38.g4e64df6.dirty\n"
     ]
    }
   ],
   "source": [
    "import sqs_nqs_tools as nqs\n",
    "from sqs_nqs_tools.offline import access, adata, tof\n",
    "\n",
    "import matplotlib.pyplot as plt"
   ]
  },
  {
   "cell_type": "markdown",
   "metadata": {},
   "source": [
    "Load sample data"
   ]
  },
  {
   "cell_type": "code",
   "execution_count": 2,
   "metadata": {},
   "outputs": [],
   "source": [
    "raw_path ='/gpfs/exfel/exp/SQS/201802/p002195/scratch'\n",
    "\n",
    "[TOFtrace, TOFrange]  = adata.getTOF(100, path=raw_path, fullrange=True)"
   ]
  },
  {
   "cell_type": "markdown",
   "metadata": {},
   "source": [
    "Define helper functions"
   ]
  },
  {
   "cell_type": "code",
   "execution_count": 3,
   "metadata": {},
   "outputs": [],
   "source": [
    "def simple_test(cmd,expected_out):\n",
    "    try:\n",
    "        out = eval(cmd)\n",
    "        if out == expected_out:\n",
    "            print(cmd+\" - OK\")\n",
    "        else:\n",
    "            print(cmd+\" - WARN || out : \"+str(out))\n",
    "    except:\n",
    "        print(cmd+\" - FAIL\")\n",
    "\n",
    "def shape_test(cmd,expected_shape):\n",
    "    try:\n",
    "        out = eval(cmd)\n",
    "        if out.shape == expected_shape:\n",
    "            print(cmd+\" - OK\")\n",
    "        else:\n",
    "            print(cmd+\" - WARN || out.shape: \"+str(out.shape))\n",
    "    except:\n",
    "        print(cmd+\" - FAIL\")"
   ]
  },
  {
   "cell_type": "code",
   "execution_count": 4,
   "metadata": {},
   "outputs": [],
   "source": []
  },
  {
   "cell_type": "code",
   "execution_count": null,
   "metadata": {
    "scrolled": true
   },
   "outputs": [],
   "source": [
    "\n",
    "\n"
   ]
  },
  {
   "cell_type": "markdown",
   "metadata": {},
   "source": [
    "Tests"
   ]
  },
  {
   "cell_type": "code",
   "execution_count": 5,
   "metadata": {},
   "outputs": [
    {
     "name": "stdout",
     "output_type": "stream",
     "text": [
      "access.runFormat(10) - OK\n",
      "adata.getTOF(100, path=raw_path, fullrange=True)[0] - OK\n",
      "tof.averageTOF( TOFtrace ) - OK\n",
      "tof.averageBrightestTOFs( TOFrange, TOFtrace) - OK\n",
      "tof.waterfallBrightest_labelByTrainId( TOFrange, TOFtrace, showplot = False) - OK\n"
     ]
    }
   ],
   "source": [
    "# Disable in line plot output\n",
    "plt.ioff()\n",
    "# Test Access\n",
    "simple_test('access.runFormat(10)','/r0010')\n",
    "# Test retrieving TOF data\n",
    "shape_test('adata.getTOF(100, path=raw_path, fullrange=True)[0]',(3014,600000))\n",
    "# test some processing\n",
    "shape_test('tof.averageTOF( TOFtrace )',(600000,))\n",
    "shape_test('tof.averageBrightestTOFs( TOFrange, TOFtrace)',(600000,))\n",
    "shape_test('tof.waterfallBrightest_labelByTrainId( TOFrange, TOFtrace, showplot = False)',(100,))\n"
   ]
  },
  {
   "cell_type": "code",
   "execution_count": null,
   "metadata": {},
   "outputs": [],
   "source": []
  },
  {
   "cell_type": "code",
   "execution_count": null,
   "metadata": {},
   "outputs": [],
   "source": []
  },
  {
   "cell_type": "code",
   "execution_count": null,
   "metadata": {},
   "outputs": [],
   "source": []
  }
 ],
 "metadata": {
  "kernelspec": {
   "display_name": "Python 3",
   "language": "python",
   "name": "python3"
  },
  "language_info": {
   "codemirror_mode": {
    "name": "ipython",
    "version": 3
   },
   "file_extension": ".py",
   "mimetype": "text/x-python",
   "name": "python",
   "nbconvert_exporter": "python",
   "pygments_lexer": "ipython3",
   "version": "3.6.7"
  }
 },
 "nbformat": 4,
 "nbformat_minor": 2
}
