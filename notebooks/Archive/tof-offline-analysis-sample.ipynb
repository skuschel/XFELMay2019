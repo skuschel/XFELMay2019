{
 "cells": [
  {
   "cell_type": "code",
   "execution_count": null,
   "metadata": {
    "scrolled": true
   },
   "outputs": [],
   "source": [
    "# Plot options\n",
    "import matplotlib.pyplot as plt\n",
    "\n",
    "# Import required libraries\n",
    "import numpy as np\n",
    "\n",
    "# Import karabo libraries\n",
    "import karabo_bridge as kb\n",
    "import karabo_data as kd\n",
    "import xfelmay2019 as tofoff\n"
   ]
  },
  {
   "cell_type": "markdown",
   "metadata": {},
   "source": [
    "# Find TOF peaks"
   ]
  },
  {
   "cell_type": "code",
   "execution_count": null,
   "metadata": {},
   "outputs": [],
   "source": [
    "path='/gpfs/exfel/exp/SQS/201921/p002430/raw'\n",
    "run = tofoff.runFormat( 134 )\n",
    "runData = kd.RunDirectory(path+run)\n",
    "tofavg = tofoff.tofAverager( runData )"
   ]
  },
  {
   "cell_type": "code",
   "execution_count": null,
   "metadata": {},
   "outputs": [],
   "source": [
    "plt.figure(figsize = (30,20))\n",
    "\n",
    "z  = tofoff.normalizedTOF( tofavg )\n",
    "zf,zguess = tofoff.findTOFPeaks( z )\n",
    "    \n",
    "plt.plot(z)\n",
    "plt.plot(zf, zguess, 'o', ms=10, color='red')"
   ]
  },
  {
   "cell_type": "markdown",
   "metadata": {},
   "source": [
    "# Generate TOF averages"
   ]
  },
  {
   "cell_type": "code",
   "execution_count": null,
   "metadata": {},
   "outputs": [],
   "source": [
    "run = tofoff.runFormat( 134 )\n",
    "runData = kd.RunDirectory(path+run)\n",
    "tofaverage134 = tofoff.tofAverager( runData )\n",
    "\n",
    "run = tofoff.runFormat( 10 )\n",
    "runData = kd.RunDirectory(path+run)\n",
    "tofaverage10 = tofoff.tofAverager( runData )"
   ]
  },
  {
   "cell_type": "code",
   "execution_count": null,
   "metadata": {},
   "outputs": [],
   "source": [
    "plt.figure(figsize = (30,20))\n",
    "plt.plot(tofaverage134, 'b', alpha=0.5)\n",
    "xs = np.arange(tofaverage10.size)\n",
    "plt.plot(xs-122500-4200+2800, tofaverage10 + tofaverage134[0] - tofaverage10[0], 'r', alpha=0.5)\n",
    "\n",
    "plt.xlim(267500,276000)\n",
    "plt.ylim(0,-200)\n",
    "\n",
    "plt.legend()"
   ]
  }
 ],
 "metadata": {
  "kernelspec": {
   "display_name": "xfel",
   "language": "python",
   "name": "xfel-1.1"
  },
  "language_info": {
   "codemirror_mode": {
    "name": "ipython",
    "version": 3
   },
   "file_extension": ".py",
   "mimetype": "text/x-python",
   "name": "python",
   "nbconvert_exporter": "python",
   "pygments_lexer": "ipython3",
   "version": "3.7.1"
  }
 },
 "nbformat": 4,
 "nbformat_minor": 2
}
