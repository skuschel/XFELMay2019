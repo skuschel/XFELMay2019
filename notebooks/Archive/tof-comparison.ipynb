{
 "cells": [
  {
   "cell_type": "code",
   "execution_count": null,
   "metadata": {
    "scrolled": true
   },
   "outputs": [],
   "source": [
    "# Plot options\n",
    "import matplotlib.pyplot as plt\n",
    "\n",
    "# Import required libraries\n",
    "import numpy as np\n",
    "import pyqtgraph as pg\n",
    "\n",
    "# Import karabo libraries\n",
    "import karabo_bridge as kb\n",
    "import karabo_data as kd\n",
    "import xfelmay2019 as tofoff\n"
   ]
  },
  {
   "cell_type": "markdown",
   "metadata": {},
   "source": [
    "# Compare two TOF spectra"
   ]
  },
  {
   "cell_type": "code",
   "execution_count": null,
   "metadata": {},
   "outputs": [],
   "source": [
    "path='/gpfs/exfel/exp/SQS/201921/p002430/raw'\n",
    "run = tofoff.runFormat( 252 )\n",
    "runData = kd.RunDirectory(path+run)\n",
    "tofavg252 = tofoff.tofAverager( runData )\n",
    "\n",
    "\n",
    "run = tofoff.runFormat( 228 )\n",
    "runData = kd.RunDirectory(path+run)\n",
    "tofavg228 = tofoff.tofAverager( runData )"
   ]
  },
  {
   "cell_type": "code",
   "execution_count": null,
   "metadata": {},
   "outputs": [],
   "source": [
    "plt.figure( figsize=(20,5) )\n",
    "\n",
    "myrange = (265000, 285000)\n",
    "\n",
    "red252 = tofavg252[myrange[0]:myrange[1]]\n",
    "red228 = tofavg228[myrange[0]:myrange[1]]\n",
    "\n",
    "plt.plot(red252,alpha=0.5)\n",
    "plt.plot(red228, alpha=0.5)\n"
   ]
  },
  {
   "cell_type": "code",
   "execution_count": null,
   "metadata": {},
   "outputs": [],
   "source": []
  },
  {
   "cell_type": "markdown",
   "metadata": {},
   "source": [
    "# Compare TOF spectra across runs"
   ]
  },
  {
   "cell_type": "code",
   "execution_count": null,
   "metadata": {},
   "outputs": [],
   "source": [
    "path='/gpfs/exfel/exp/SQS/201921/p002430/raw'\n",
    "\n",
    "runs = np.arange( 261,266 )\n",
    "\n",
    "tofavgs = None\n",
    "\n",
    "for idx,runNumber in enumerate(runs):\n",
    "    run = tofoff.runFormat( runNumber )\n",
    "    runData = kd.RunDirectory(path+run)\n",
    "    tofavg = np.mean( runData.get_array( 'SQS_DIGITIZER_UTC1/ADC/1:network','digitizers.channel_1_A.raw.samples' ) , 0 )\n",
    "    if tofavgs is None:\n",
    "        tofavgs = np.zeros( ( runs.size, tofavg.size ) )\n",
    "    tofavgs[idx,:] = tofavg\n"
   ]
  },
  {
   "cell_type": "code",
   "execution_count": null,
   "metadata": {
    "scrolled": true
   },
   "outputs": [],
   "source": [
    "plt.figure( figsize=(20,5) )\n",
    "\n",
    "myrange = (265000, 285000)\n",
    "\n",
    "# plt.plot( tofavgs[0,myrange[0]:myrange[1] ], 'r', alpha=0.5, label='261' )\n",
    "plt.plot( tofavgs[1,myrange[0]:myrange[1] ], 'b', alpha=0.5, label='262' )\n",
    "plt.plot( tofavgs[2,myrange[0]:myrange[1] ], 'k', alpha=0.5, label='263' )\n",
    "plt.plot( tofavgs[3,myrange[0]:myrange[1] ], 'y', alpha=0.5, label='264' )\n",
    "# plt.plot( tofavgs[4,myrange[0]:myrange[1] ], 'm', alpha=0.5, label='265' )\n",
    "plt.legend()\n",
    "\n"
   ]
  },
  {
   "cell_type": "code",
   "execution_count": null,
   "metadata": {},
   "outputs": [],
   "source": []
  },
  {
   "cell_type": "markdown",
   "metadata": {},
   "source": [
    "# Compare TOF spectra across runs"
   ]
  },
  {
   "cell_type": "code",
   "execution_count": null,
   "metadata": {},
   "outputs": [],
   "source": [
    "path='/gpfs/exfel/exp/SQS/201921/p002430/raw'\n",
    "\n",
    "runs = np.arange( 289,290 )\n",
    "\n",
    "tofavgs = None\n",
    "\n",
    "for idx,runNumber in enumerate(runs):\n",
    "    run = tofoff.runFormat( runNumber )\n",
    "    runData = kd.RunDirectory(path+run)\n",
    "    tofavg = np.max( runData.get_array( 'SQS_DIGITIZER_UTC1/ADC/1:network','digitizers.channel_1_A.raw.samples' ) , 0 )\n",
    "    if tofavgs is None:\n",
    "        tofavgs = np.zeros( ( runs.size, tofavg.size ) )\n",
    "    tofavgs[idx,:] = tofavg\n"
   ]
  },
  {
   "cell_type": "code",
   "execution_count": null,
   "metadata": {
    "scrolled": true
   },
   "outputs": [],
   "source": [
    "plt.figure( figsize=(20,5) )\n",
    "\n",
    "myrange = (260000, 290000)\n",
    "\n",
    "plt.plot( tofavgs[0,myrange[0]:myrange[1] ], 'r', alpha=0.5 )\n",
    "# plt.legend()\n",
    "\n"
   ]
  },
  {
   "cell_type": "markdown",
   "metadata": {},
   "source": [
    "# Compare TOF spectra across runs"
   ]
  },
  {
   "cell_type": "code",
   "execution_count": null,
   "metadata": {},
   "outputs": [],
   "source": [
    "path='/gpfs/exfel/exp/SQS/201921/p002430/raw'\n",
    "\n",
    "# runs = np.arange( 261,266 )\n",
    "runs =np.array([263, 266, 267, 268])\n",
    "\n",
    "tofavgs = None\n",
    "\n",
    "for idx,runNumber in enumerate(runs):\n",
    "    run = tofoff.runFormat( runNumber )\n",
    "    runData = kd.RunDirectory(path+run)\n",
    "    tofavg = np.mean( runData.get_array( 'SQS_DIGITIZER_UTC1/ADC/1:network','digitizers.channel_1_A.raw.samples' ) , 0 )\n",
    "    if tofavgs is None:\n",
    "        tofavgs = np.zeros( ( runs.size, tofavg.size ) )\n",
    "    tofavgs[idx,:] = tofavg\n"
   ]
  },
  {
   "cell_type": "code",
   "execution_count": null,
   "metadata": {},
   "outputs": [],
   "source": [
    "plt.figure( figsize=(20,5) )\n",
    "\n",
    "myrange = (265000, 285000)\n",
    "\n",
    "plt.plot( tofavgs[0,myrange[0]:myrange[1] ], 'r', alpha=0.5, label='263' )\n",
    "plt.plot( tofavgs[1,myrange[0]:myrange[1] ], 'b', alpha=0.5, label='266' )\n",
    "plt.plot( tofavgs[2,myrange[0]:myrange[1] ], 'k', alpha=0.5, label='267' )\n",
    "plt.plot( tofavgs[2,myrange[0]:myrange[1] ], 'm', alpha=0.5, label='268' )\n",
    "plt.legend()\n",
    "\n"
   ]
  },
  {
   "cell_type": "code",
   "execution_count": null,
   "metadata": {},
   "outputs": [],
   "source": []
  },
  {
   "cell_type": "markdown",
   "metadata": {},
   "source": [
    "# Compare TOF spectra across runs"
   ]
  },
  {
   "cell_type": "code",
   "execution_count": null,
   "metadata": {},
   "outputs": [],
   "source": [
    "path='/gpfs/exfel/exp/SQS/201921/p002430/raw'\n",
    "\n",
    "# runs = np.arange( 261,266 )\n",
    "runs =np.array([263, 266, 267, 268,269,270,271,272,273,274,275,276,277, 278, 279, 280, 281, 282])\n",
    "\n",
    "tofavgs = None\n",
    "\n",
    "lightPeaks = []\n",
    "onePlus = []\n",
    "higherCharges = []\n",
    "\n",
    "\n",
    "for idx,runNumber in enumerate(runs):\n",
    "    run = tofoff.runFormat( runNumber )\n",
    "    runData = kd.RunDirectory(path+run)\n",
    "    \n",
    "    tofsall = np.asarray(runData.get_array( 'SQS_DIGITIZER_UTC1/ADC/1:network','digitizers.channel_1_A.raw.samples' ))\n",
    "    tofbaseline = np.sum(tofsall[:,0:100],1)\n",
    "    tofsall = (tofsall.T - tofbaseline).T\n",
    "    pulseEnergy = np.asarray(runData.get_array( 'SA3_XTD10_XGM/XGM/DOOCS:output','data.intensityTD')[:,120])\n",
    "    \n",
    "    tofsum  = np.sum(tofsall[:,265930:265980],1) / pulseEnergy\n",
    "#     print(tofsum.size)\n",
    "#     indbright = np.argsort(tofsum)[-20:]\n",
    "    indbright = np.argsort(tofsum)[:]\n",
    "#    indbright = np.argsort(tofsum)[:20]\n",
    "    \n",
    "    tofavg = np.mean( tofsall[ indbright , : ] , 0 )\n",
    "    if tofavgs is None:\n",
    "        tofavgs = np.zeros( ( runs.size, tofavg.size ) )\n",
    "    tofavgs[idx,:] = tofavg / np.mean( pulseEnergy[ indbright ] )\n",
    "    \n",
    "    lightPeaks.append( np.sum(tofavg[265930:265980]))\n",
    "    onePlus.append( np.sum(tofavg[280000:280000+1000]) )\n",
    "    \n",
    "    higherCharges.append( np.sum(tofavg[265000+3000:265000+4500]) )\n",
    "    \n",
    "# chamberY = np.array( [.341,.441,.642,.842,1.042,1.243,1.444] )\n",
    "    \n"
   ]
  },
  {
   "cell_type": "code",
   "execution_count": null,
   "metadata": {},
   "outputs": [],
   "source": [
    "\n",
    "chamberY = np.array( [.341,.441,.642,.842,1.042,1.243,1.444,1.646, 1.846, 2.048,2.249,2.450,2.65, 1.846, 1.645, 1.44,1.245, 1.75] )"
   ]
  },
  {
   "cell_type": "code",
   "execution_count": null,
   "metadata": {},
   "outputs": [],
   "source": [
    "plt.plot( chamberY , lightPeaks )\n",
    "plt.xlabel( 'chamberY (encoder)' )\n",
    "plt.ylabel('integrated light peak')"
   ]
  },
  {
   "cell_type": "code",
   "execution_count": null,
   "metadata": {},
   "outputs": [],
   "source": [
    "plt.figure( 10 )\n",
    "\n",
    "def makeAndreaHappy( y ):\n",
    "    ynew = y -np.mean(y)\n",
    "    return ynew / (np.max(np.abs(y))-np.min(np.abs(y)))\n",
    "    \n",
    "plt.plot( np.abs(chamberY) , makeAndreaHappy(lightPeaks), label='light' )\n",
    "plt.plot( chamberY , makeAndreaHappy(onePlus), label='oneplus' )\n",
    "plt.plot( chamberY , makeAndreaHappy( np.array(higherCharges) / np.array(onePlus) ), label='highcharge/oneplus' )\n",
    "\n",
    "plt.xlabel( 'chamber Y (encoder)' )\n",
    "plt.ylabel( '  (y-mean(y))/range(y)  ' )\n",
    "\n",
    "plt.legend()\n",
    "\n"
   ]
  },
  {
   "cell_type": "code",
   "execution_count": null,
   "metadata": {},
   "outputs": [],
   "source": [
    "plt.figure(10)\n",
    "\n",
    "plt.plot( chamberY , onePlus )"
   ]
  },
  {
   "cell_type": "code",
   "execution_count": null,
   "metadata": {},
   "outputs": [],
   "source": [
    "plt.figure(10)\n",
    "\n",
    "plt.plot( chamberY , np.array(onePlus) / np.array(higherCharges) )"
   ]
  },
  {
   "cell_type": "code",
   "execution_count": null,
   "metadata": {},
   "outputs": [],
   "source": [
    "plt.figure(10)\n",
    "\n",
    "plt.plot( chamberY , np.array(onePlus) / np.array(higherCharges) )"
   ]
  },
  {
   "cell_type": "code",
   "execution_count": null,
   "metadata": {},
   "outputs": [],
   "source": []
  },
  {
   "cell_type": "code",
   "execution_count": null,
   "metadata": {},
   "outputs": [],
   "source": [
    "plt.figure( figsize=(20,5) )\n",
    "\n",
    "myrange = (265000, 285000)\n",
    "\n",
    "# plt.plot( tofavgs[0,myrange[0]:myrange[1] ], 'r', alpha=0.5, label='263' ) # low\n",
    "# plt.plot( tofavgs[1,myrange[0]:myrange[1] ], 'b', alpha=0.5, label='266' ) # low\n",
    "plt.plot( tofavgs[2,myrange[0]:myrange[1] ], 'k', alpha=0.5, label='267' ) # low\n",
    "# plt.plot( tofavgs[3,myrange[0]:myrange[1] ], 'm', alpha=0.5, label='268' )\n",
    "# plt.plot( tofavgs[3,myrange[0]:myrange[1] ], 'g', alpha=0.5, label='269' )\n",
    "plt.plot( tofavgs[3,myrange[0]:myrange[1] ], 'b', alpha=0.5, label='270' )\n",
    "plt.ylim([0.,-0.3])\n",
    "\n",
    "plt.legend()\n",
    "\n"
   ]
  },
  {
   "cell_type": "code",
   "execution_count": null,
   "metadata": {},
   "outputs": [],
   "source": [
    "265000+15000\n",
    "\n",
    "\n"
   ]
  },
  {
   "cell_type": "code",
   "execution_count": null,
   "metadata": {},
   "outputs": [],
   "source": []
  },
  {
   "cell_type": "markdown",
   "metadata": {},
   "source": [
    "# Compare TOF spectra across runs"
   ]
  },
  {
   "cell_type": "code",
   "execution_count": null,
   "metadata": {},
   "outputs": [],
   "source": [
    "path='/gpfs/exfel/exp/SQS/201921/p002430/raw'\n",
    "\n",
    "runs =np.array([291])\n",
    "\n",
    "tofavgs = None\n",
    "\n",
    "b = None\n",
    "\n",
    "lightPeaks = []\n",
    "onePlus = []\n",
    "higherCharges = []\n",
    "\n",
    "\n",
    "for idx,runNumber in enumerate(runs):\n",
    "    run = tofoff.runFormat( runNumber )\n",
    "    runData = kd.RunDirectory(path+run)\n",
    "    \n",
    "    tofsall = np.asarray(runData.get_array( 'SQS_DIGITIZER_UTC1/ADC/1:network','digitizers.channel_1_A.raw.samples' ))\n",
    "    tofbaseline = np.sum(tofsall[:,0:100],1)\n",
    "#     tofsall = (tofsall.T - tofbaseline).T\n",
    "    pulseEnergy = np.asarray(runData.get_array( 'SA3_XTD10_XGM/XGM/DOOCS:output','data.intensityTD')[:,120])\n",
    "    \n",
    "#     tofsum  = np.sum(tofsall[:,265930:265980],1) / pulseEnergy\n",
    "    tofsum  = np.sum(tofsall[:,265000+2500:265000+7500],1) / pulseEnergy\n",
    "#     print(tofsum.size)\n",
    "#     indbright = np.argsort(tofsum)[-20:]\n",
    "    indbright = np.argsort(tofsum)[:20]\n",
    "#    indbright = np.argsort(tofsum)[:20]\n",
    "    \n",
    "    b = tofsall[ indbright , : ] \n",
    "    \n",
    "    tofavg = np.mean( tofsall[ indbright , : ] , 0 )\n",
    "    if tofavgs is None:\n",
    "        tofavgs = np.zeros( ( runs.size, tofavg.size ) )\n",
    "    tofavgs[idx,:] = tofavg / np.mean( pulseEnergy[ indbright ] )\n",
    "    \n",
    "    print( runData.train_ids[indbright[0]] )\n",
    "    \n",
    "    lightPeaks.append( np.sum(tofavg[265930:265980]))\n",
    "    onePlus.append( np.sum(tofavg[280000:280000+1000]) )\n",
    "    \n",
    "    higherCharges.append( np.sum(tofavg[265000+3000:265000+4500]) )\n",
    "    \n",
    "# chamberY = np.array( [.341,.441,.642,.842,1.042,1.243,1.444] )\n",
    "    \n"
   ]
  },
  {
   "cell_type": "code",
   "execution_count": null,
   "metadata": {},
   "outputs": [],
   "source": [
    "plt.figure( figsize=(20,5) )\n",
    "\n",
    "myrange = (265000, 285000)\n",
    "plt.plot( b[:,myrange[0]:myrange[1] ].T, alpha = 0.5 );\n",
    "\n",
    "plt.show()"
   ]
  }
 ],
 "metadata": {
  "kernelspec": {
   "display_name": "xfel",
   "language": "python",
   "name": "xfel-1.1"
  },
  "language_info": {
   "codemirror_mode": {
    "name": "ipython",
    "version": 3
   },
   "file_extension": ".py",
   "mimetype": "text/x-python",
   "name": "python",
   "nbconvert_exporter": "python",
   "pygments_lexer": "ipython3",
   "version": "3.7.1"
  }
 },
 "nbformat": 4,
 "nbformat_minor": 2
}
