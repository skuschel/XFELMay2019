{
 "cells": [
  {
   "cell_type": "code",
   "execution_count": 1,
   "metadata": {
    "scrolled": true
   },
   "outputs": [
    {
     "name": "stdout",
     "output_type": "stream",
     "text": [
      "Welcome to xfelmay2019 version 0+untagged.116.gedbd965\n"
     ]
    }
   ],
   "source": [
    "# Plot options\n",
    "import matplotlib.pyplot as plt\n",
    "\n",
    "# Import required libraries\n",
    "import numpy as np\n",
    "\n",
    "# Import karabo libraries\n",
    "import karabo_bridge as kb\n",
    "import karabo_data as kd\n",
    "import xfelmay2019 as xfel\n"
   ]
  },
  {
   "cell_type": "markdown",
   "metadata": {},
   "source": [
    "# Grab a run of data"
   ]
  },
  {
   "cell_type": "code",
   "execution_count": 2,
   "metadata": {},
   "outputs": [],
   "source": [
    "path='/gpfs/exfel/exp/SQS/201921/p002430/raw'\n",
    "runNum = 202\n",
    "\n",
    "run = xfel.runFormat( runNum )\n",
    "runData = kd.RunDirectory(path+run)"
   ]
  },
  {
   "cell_type": "code",
   "execution_count": 3,
   "metadata": {},
   "outputs": [
    {
     "name": "stdout",
     "output_type": "stream",
     "text": [
      "# of trains:    6842\n",
      "Duration:       0:11:24.100000\n",
      "First train ID: 103169840\n",
      "Last train ID:  103176681\n",
      "\n",
      "0 detector modules ()\n",
      "\n",
      "4 instrument sources (excluding detectors):\n",
      "  - SA3_XTD10_XGM/XGM/DOOCS:output\n",
      "  - SQS_DIGITIZER_UTC1/ADC/1:network\n",
      "  - SQS_DPU_LIC/CAM/YAG_UPSTR:daqOutput\n",
      "  - SQS_DPU_LIC/PROC/YAG_UPSTR:output\n",
      "\n",
      "35 control sources:\n",
      "  - FUSION_CDG\n",
      "  - P_GATT\n",
      "  - SA3_XTD10_MONO/MDL/PHOTON_ENERGY\n",
      "  - SA3_XTD10_VAC/GAUGE/G30510C\n",
      "  - SA3_XTD10_XGM/XGM/DOOCS\n",
      "  - SQS_AQS_MOV/MOTOR/X_UPSTR_LEFT\n",
      "  - SQS_AQS_MOV/MOTOR/Y_DOWNSTR\n",
      "  - SQS_AQS_MOV/MOTOR/Y_UPSTR_LEFT\n",
      "  - SQS_AQS_MOV/MOTOR/Y_UPSTR_RIGHT\n",
      "  - SQS_AQS_MOV/MOTOR/Z_UPSTR_LEFT\n",
      "  - SQS_AQS_MOV/MOTOR/Z_UPSTR_RIGHT\n",
      "  - SQS_AQS_VAC/MOTOR/NEEDLE_F1P_X\n",
      "  - SQS_AQS_VAC/MOTOR/NEEDLE_F1P_Y\n",
      "  - SQS_AQS_VAC/MOTOR/NEEDLE_F1P_Z\n",
      "  - SQS_AQS_VAC/MOTOR/NEEDLE_F1_X\n",
      "  - SQS_AQS_VAC/MOTOR/NEEDLE_F1_Y\n",
      "  - SQS_AQS_VAC/MOTOR/NEEDLE_F1_Z\n",
      "  - SQS_DPU_LIC/CAM/YAG_UPSTR\n",
      "  - SQS_DPU_LIC/MOTOR/YAG_Y_UPSTR\n",
      "  - SQS_DPU_LIC/PROC/YAG_UPSTR\n",
      "  - SQS_NQS_CRSC/ACTRL/SLIT_Z_WIDTH\n",
      "  - SQS_NQS_CRSC/ASENS/SLIT_Z_WIDTH\n",
      "  - SQS_NQS_CRSC/GAUGE/STAGE_1\n",
      "  - SQS_NQS_CRSC/GAUGE/STAGE_2\n",
      "  - SQS_NQS_CRSC/GAUGE/STAGE_3\n",
      "  - SQS_NQS_CRSC/MOTOR/NOZZLE_X\n",
      "  - SQS_NQS_CRSC/MOTOR/NOZZLE_Y\n",
      "  - SQS_NQS_CRSC/MOTOR/NOZZLE_Z\n",
      "  - SQS_NQS_CRSC/TSYS/PARKER_TRIGGER\n",
      "  - SQS_NQS_DVMIS/TSYS/BEHLKE-1_TRIGGER\n",
      "  - SQS_NQS_DVMIS/TSYS/BEHLKE-2_TRIGGER\n",
      "  - SQS_NQS_MCPSCD/TSYS/CAMERA_TRIGGER\n",
      "  - SQS_NQS_TPAD/TSYS/CAM_TRIGGER\n",
      "  - SQS_NQS_VAC/GAUGE/DUMP\n",
      "  - SQS_RR_UTC/TSYS/TIMESERVER\n",
      "\n"
     ]
    }
   ],
   "source": [
    "runData.info()"
   ]
  },
  {
   "cell_type": "code",
   "execution_count": 4,
   "metadata": {},
   "outputs": [
    {
     "data": {
      "text/plain": [
       "frozenset({'FUSION_CDG',\n",
       "           'P_GATT',\n",
       "           'SA3_XTD10_MONO/MDL/PHOTON_ENERGY',\n",
       "           'SA3_XTD10_VAC/GAUGE/G30510C',\n",
       "           'SA3_XTD10_XGM/XGM/DOOCS',\n",
       "           'SA3_XTD10_XGM/XGM/DOOCS:output',\n",
       "           'SQS_AQS_MOV/MOTOR/X_UPSTR_LEFT',\n",
       "           'SQS_AQS_MOV/MOTOR/Y_DOWNSTR',\n",
       "           'SQS_AQS_MOV/MOTOR/Y_UPSTR_LEFT',\n",
       "           'SQS_AQS_MOV/MOTOR/Y_UPSTR_RIGHT',\n",
       "           'SQS_AQS_MOV/MOTOR/Z_UPSTR_LEFT',\n",
       "           'SQS_AQS_MOV/MOTOR/Z_UPSTR_RIGHT',\n",
       "           'SQS_AQS_VAC/MOTOR/NEEDLE_F1P_X',\n",
       "           'SQS_AQS_VAC/MOTOR/NEEDLE_F1P_Y',\n",
       "           'SQS_AQS_VAC/MOTOR/NEEDLE_F1P_Z',\n",
       "           'SQS_AQS_VAC/MOTOR/NEEDLE_F1_X',\n",
       "           'SQS_AQS_VAC/MOTOR/NEEDLE_F1_Y',\n",
       "           'SQS_AQS_VAC/MOTOR/NEEDLE_F1_Z',\n",
       "           'SQS_DIGITIZER_UTC1/ADC/1:network',\n",
       "           'SQS_DPU_LIC/CAM/YAG_UPSTR',\n",
       "           'SQS_DPU_LIC/CAM/YAG_UPSTR:daqOutput',\n",
       "           'SQS_DPU_LIC/MOTOR/YAG_Y_UPSTR',\n",
       "           'SQS_DPU_LIC/PROC/YAG_UPSTR',\n",
       "           'SQS_DPU_LIC/PROC/YAG_UPSTR:output',\n",
       "           'SQS_NQS_CRSC/ACTRL/SLIT_Z_WIDTH',\n",
       "           'SQS_NQS_CRSC/ASENS/SLIT_Z_WIDTH',\n",
       "           'SQS_NQS_CRSC/GAUGE/STAGE_1',\n",
       "           'SQS_NQS_CRSC/GAUGE/STAGE_2',\n",
       "           'SQS_NQS_CRSC/GAUGE/STAGE_3',\n",
       "           'SQS_NQS_CRSC/MOTOR/NOZZLE_X',\n",
       "           'SQS_NQS_CRSC/MOTOR/NOZZLE_Y',\n",
       "           'SQS_NQS_CRSC/MOTOR/NOZZLE_Z',\n",
       "           'SQS_NQS_CRSC/TSYS/PARKER_TRIGGER',\n",
       "           'SQS_NQS_DVMIS/TSYS/BEHLKE-1_TRIGGER',\n",
       "           'SQS_NQS_DVMIS/TSYS/BEHLKE-2_TRIGGER',\n",
       "           'SQS_NQS_MCPSCD/TSYS/CAMERA_TRIGGER',\n",
       "           'SQS_NQS_TPAD/TSYS/CAM_TRIGGER',\n",
       "           'SQS_NQS_VAC/GAUGE/DUMP',\n",
       "           'SQS_RR_UTC/TSYS/TIMESERVER'})"
      ]
     },
     "execution_count": 4,
     "metadata": {},
     "output_type": "execute_result"
    }
   ],
   "source": [
    "runData.all_sources"
   ]
  },
  {
   "cell_type": "code",
   "execution_count": 3,
   "metadata": {},
   "outputs": [
    {
     "ename": "NameError",
     "evalue": "name 'runData' is not defined",
     "output_type": "error",
     "traceback": [
      "\u001b[0;31m---------------------------------------------------------------------------\u001b[0m",
      "\u001b[0;31mNameError\u001b[0m                                 Traceback (most recent call last)",
      "\u001b[0;32m<ipython-input-3-032e6c1168af>\u001b[0m in \u001b[0;36m<module>\u001b[0;34m()\u001b[0m\n\u001b[0;32m----> 1\u001b[0;31m \u001b[0;32mfor\u001b[0m \u001b[0mtrain_id\u001b[0m\u001b[0;34m,\u001b[0m \u001b[0mdata\u001b[0m \u001b[0;32min\u001b[0m \u001b[0mrunData\u001b[0m\u001b[0;34m.\u001b[0m\u001b[0mtrains\u001b[0m\u001b[0;34m(\u001b[0m\u001b[0;34m)\u001b[0m\u001b[0;34m:\u001b[0m\u001b[0;34m\u001b[0m\u001b[0;34m\u001b[0m\u001b[0m\n\u001b[0m\u001b[1;32m      2\u001b[0m     \u001b[0;32mbreak\u001b[0m\u001b[0;34m\u001b[0m\u001b[0;34m\u001b[0m\u001b[0m\n",
      "\u001b[0;31mNameError\u001b[0m: name 'runData' is not defined"
     ]
    }
   ],
   "source": [
    "for train_id, data in runData.trains():\n",
    "    break"
   ]
  },
  {
   "cell_type": "code",
   "execution_count": 4,
   "metadata": {},
   "outputs": [
    {
     "ename": "NameError",
     "evalue": "name 'data' is not defined",
     "output_type": "error",
     "traceback": [
      "\u001b[0;31m---------------------------------------------------------------------------\u001b[0m",
      "\u001b[0;31mNameError\u001b[0m                                 Traceback (most recent call last)",
      "\u001b[0;32m<ipython-input-4-43ebc71570da>\u001b[0m in \u001b[0;36m<module>\u001b[0;34m()\u001b[0m\n\u001b[0;32m----> 1\u001b[0;31m \u001b[0mdata\u001b[0m\u001b[0;34m.\u001b[0m\u001b[0mkeys\u001b[0m\u001b[0;34m(\u001b[0m\u001b[0;34m)\u001b[0m\u001b[0;34m\u001b[0m\u001b[0;34m\u001b[0m\u001b[0m\n\u001b[0m",
      "\u001b[0;31mNameError\u001b[0m: name 'data' is not defined"
     ]
    }
   ],
   "source": [
    "data.keys()"
   ]
  },
  {
   "cell_type": "code",
   "execution_count": 5,
   "metadata": {},
   "outputs": [
    {
     "ename": "NameError",
     "evalue": "name 'data' is not defined",
     "output_type": "error",
     "traceback": [
      "\u001b[0;31m---------------------------------------------------------------------------\u001b[0m",
      "\u001b[0;31mNameError\u001b[0m                                 Traceback (most recent call last)",
      "\u001b[0;32m<ipython-input-5-7b183032c2bf>\u001b[0m in \u001b[0;36m<module>\u001b[0;34m()\u001b[0m\n\u001b[1;32m      1\u001b[0m \u001b[0;31m# data['SA3_XTD10_XGM/XGM/DOOCS']\u001b[0m\u001b[0;34m\u001b[0m\u001b[0;34m\u001b[0m\u001b[0;34m\u001b[0m\u001b[0m\n\u001b[0;32m----> 2\u001b[0;31m \u001b[0mdata\u001b[0m\u001b[0;34m[\u001b[0m\u001b[0;34m'P_GATT'\u001b[0m\u001b[0;34m]\u001b[0m\u001b[0;34m\u001b[0m\u001b[0;34m\u001b[0m\u001b[0m\n\u001b[0m",
      "\u001b[0;31mNameError\u001b[0m: name 'data' is not defined"
     ]
    }
   ],
   "source": [
    "# data['SA3_XTD10_XGM/XGM/DOOCS']\n",
    "data['P_GATT']"
   ]
  },
  {
   "cell_type": "code",
   "execution_count": 6,
   "metadata": {},
   "outputs": [
    {
     "ename": "NameError",
     "evalue": "name 'data' is not defined",
     "output_type": "error",
     "traceback": [
      "\u001b[0;31m---------------------------------------------------------------------------\u001b[0m",
      "\u001b[0;31mNameError\u001b[0m                                 Traceback (most recent call last)",
      "\u001b[0;32m<ipython-input-6-21fa4e2325bc>\u001b[0m in \u001b[0;36m<module>\u001b[0;34m()\u001b[0m\n\u001b[0;32m----> 1\u001b[0;31m \u001b[0mdata\u001b[0m\u001b[0;34m[\u001b[0m\u001b[0;34m'SA3_XTD10_XGM/XGM/DOOCS'\u001b[0m\u001b[0;34m]\u001b[0m\u001b[0;34m[\u001b[0m\u001b[0;34m'pulseEnergy.crossUsed.value'\u001b[0m\u001b[0;34m]\u001b[0m\u001b[0;34m\u001b[0m\u001b[0;34m\u001b[0m\u001b[0m\n\u001b[0m",
      "\u001b[0;31mNameError\u001b[0m: name 'data' is not defined"
     ]
    }
   ],
   "source": [
    "data['SA3_XTD10_XGM/XGM/DOOCS']['pulseEnergy.crossUsed.value']"
   ]
  },
  {
   "cell_type": "code",
   "execution_count": null,
   "metadata": {},
   "outputs": [],
   "source": []
  },
  {
   "cell_type": "code",
   "execution_count": null,
   "metadata": {},
   "outputs": [],
   "source": []
  }
 ],
 "metadata": {
  "kernelspec": {
   "display_name": "xfel",
   "language": "python",
   "name": "xfel-1.1"
  },
  "language_info": {
   "codemirror_mode": {
    "name": "ipython",
    "version": 3
   },
   "file_extension": ".py",
   "mimetype": "text/x-python",
   "name": "python",
   "nbconvert_exporter": "python",
   "pygments_lexer": "ipython3",
   "version": "3.7.1"
  }
 },
 "nbformat": 4,
 "nbformat_minor": 2
}
