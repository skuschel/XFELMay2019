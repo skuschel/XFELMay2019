{
 "cells": [
  {
   "cell_type": "markdown",
   "metadata": {},
   "source": [
    "# Plot brightest\n",
    "\n",
    "This notebook can be used to plot the brightest shots (i.e. shots with scattering signal, if scattering signal is above random noise)\n"
   ]
  },
  {
   "cell_type": "code",
   "execution_count": null,
   "metadata": {},
   "outputs": [],
   "source": [
    "# Stephan Kuschel, 2019\n",
    "import matplotlib.pyplot as plt\n",
    "%matplotlib notebook\n",
    "import karabo_data\n",
    "# from tqdm import tqdm_notebook as tqdm # module not found using max-jhub.desy.de python3 and not required for this\n",
    "import numpy as np\n",
    "import functools\n",
    "\n",
    "img_karabo_source = 'SQS_DPU_LIC/CAM/YAG_UPSTR:daqOutput' #this is the MCP\n",
    "\n",
    "def addcolorbar(ax, im, pos='right', size='5%', pad=0.05, orientation='vertical',\n",
    "                stub=False, max_ticks=None, label=None):\n",
    "    '''\n",
    "    add a colorbar to a matplotlib image.\n",
    "    \n",
    "    ax -- the axis object the image is drawn in\n",
    "    im -- the image (return value of ax.imshow(...))\n",
    "    \n",
    "    When changed, please update:\n",
    "    https://gist.github.com/skuschel/85f0645bd6e37509164510290435a85a\n",
    "    \n",
    "    Stephan Kuschel, 2018\n",
    "    '''\n",
    "    from mpl_toolkits.axes_grid1 import make_axes_locatable\n",
    "    import matplotlib.pyplot as plt\n",
    "    divider = make_axes_locatable(ax)\n",
    "    cax = divider.append_axes(pos, size=size, pad=pad)\n",
    "    if stub:\n",
    "        cax.set_visible(False)\n",
    "        return cax\n",
    "    \n",
    "    cb = plt.colorbar(im, cax=cax, orientation=orientation)\n",
    "    if max_ticks is not None:\n",
    "        from matplotlib import ticker\n",
    "        tick_locator = ticker.MaxNLocator(nbins=max_ticks)\n",
    "        cb.locator = tick_locator\n",
    "        cb.update_ticks()\n",
    "    if label is not None:\n",
    "        cb.set_label(label)\n",
    "    return cax"
   ]
  },
  {
   "cell_type": "code",
   "execution_count": null,
   "metadata": {},
   "outputs": [],
   "source": [
    "@functools.lru_cache(maxsize=2)\n",
    "def getbrightest(runn, rawdir='/gpfs/exfel/exp/SQS/201802/p002195/raw/'):\n",
    "    # delay is the scanned variable\n",
    "    run = karabo_data.RunDirectory(rawdir+'r{:04n}'.format(runn))\n",
    "    imges = np.asarray(run.get_array(img_karabo_source, 'data.image.pixels'))\n",
    "    #delay = np.asarray(run.get_array('SQS_NQS_CRSC/TSYS/PARKER_TRIGGER', 'actualDelay.value'))\n",
    "    print('shape of image stream: {}'.format(imges.shape))\n",
    "    imgyield = np.mean(imges, axis=(1,2))\n",
    "    #print(imgyield.shape)\n",
    "    brightidx = np.argsort(imgyield)[::-1]\n",
    "    return brightidx, imges"
   ]
  },
  {
   "cell_type": "code",
   "execution_count": null,
   "metadata": {},
   "outputs": [],
   "source": [
    "def plotbrightest(runn,rawdir='/gpfs/exfel/exp/SQS/201802/p002195/raw/'):\n",
    "    #title gives the mean value of image\n",
    "    print(\"Wait for image processing ...\")\n",
    "    brightidx, images = getbrightest(runn,rawdir=rawdir)\n",
    "    print(\"Plotting ...\")\n",
    "    fig, axss = plt.subplots(5,4, sharex=True, sharey=True)\n",
    "    for i, ax in enumerate(np.asarray(axss).flatten()):\n",
    "        bild = images[brightidx[i]]\n",
    "        im = ax.imshow(bild)\n",
    "        addcolorbar(ax,im)\n",
    "        ax.set_title('{:.1f}'.format(np.mean(bild)))\n",
    "    \n",
    "    fig.set_size_inches(10,12)\n",
    "    fig.tight_layout()\n",
    "    fig.suptitle('run {} -- {} shots'.format(runn, len(brightidx)))\n",
    "    fig.savefig('brightest of run {}.pdf'.format(runn))"
   ]
  },
  {
   "cell_type": "markdown",
   "metadata": {},
   "source": [
    "# Start editing here"
   ]
  },
  {
   "cell_type": "code",
   "execution_count": null,
   "metadata": {},
   "outputs": [],
   "source": [
    "# just select which run shall be used. the data will automatically be saved to a pdf in the current folder.\n",
    "# path for raw exp data: /gpfs/exfel/exp/SQS/201802/p002195/raw/\n",
    "# path for scratch data: /gpfs/exfel/exp/SQS/201802/p002195/scratch/\n",
    "plotbrightest(100,rawdir='/gpfs/exfel/exp/SQS/201802/p002195/raw/')"
   ]
  },
  {
   "cell_type": "code",
   "execution_count": null,
   "metadata": {},
   "outputs": [],
   "source": []
  },
  {
   "cell_type": "code",
   "execution_count": null,
   "metadata": {},
   "outputs": [],
   "source": []
  },
  {
   "cell_type": "code",
   "execution_count": null,
   "metadata": {},
   "outputs": [],
   "source": []
  }
 ],
 "metadata": {
  "kernelspec": {
   "display_name": "Python 3",
   "language": "python",
   "name": "python3"
  },
  "language_info": {
   "codemirror_mode": {
    "name": "ipython",
    "version": 3
   },
   "file_extension": ".py",
   "mimetype": "text/x-python",
   "name": "python",
   "nbconvert_exporter": "python",
   "pygments_lexer": "ipython3",
   "version": "3.6.7"
  }
 },
 "nbformat": 4,
 "nbformat_minor": 2
}
