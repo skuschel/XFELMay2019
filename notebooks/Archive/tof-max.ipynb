{
 "cells": [
  {
   "cell_type": "code",
   "execution_count": null,
   "metadata": {
    "scrolled": true
   },
   "outputs": [],
   "source": [
    "# Plot options\n",
    "import matplotlib.pyplot as plt\n",
    "\n",
    "# Import required libraries\n",
    "import numpy as np\n",
    "import pyqtgraph as pg\n",
    "\n",
    "# Import karabo libraries\n",
    "import karabo_bridge as kb\n",
    "import karabo_data as kd\n",
    "import xfelmay2019 as tofoff\n"
   ]
  },
  {
   "cell_type": "markdown",
   "metadata": {},
   "source": [
    "# Find brightest tof spectrum"
   ]
  },
  {
   "cell_type": "code",
   "execution_count": null,
   "metadata": {},
   "outputs": [],
   "source": [
    "path='/gpfs/exfel/exp/SQS/201921/p002430/raw'\n",
    "run = tofoff.runFormat( 232 )\n",
    "runData = kd.RunDirectory(path+run)\n",
    "tofavg = tofoff.tofAverager( runData )"
   ]
  },
  {
   "cell_type": "code",
   "execution_count": null,
   "metadata": {},
   "outputs": [],
   "source": [
    "tofmax = None\n",
    "maxsum = -1\n",
    "tidmax = None\n",
    "for tid, data in runData.trains():\n",
    "    tofdata = data['SQS_DIGITIZER_UTC1/ADC/1:network']['digitizers.channel_1_A.raw.samples'][260000:280000]\n",
    "    currsum = np.sum( np.abs( tofdata ) )\n",
    "    if tofmax is None:\n",
    "        tofmax = tofdata\n",
    "        maxsum = np.sum( np.abs( tofmax ) )\n",
    "        tidmax = tid\n",
    "    elif currsum > maxsum:\n",
    "        tofmax = tofdata\n",
    "        maxsum = np.sum( np.abs( tofmax ) )\n",
    "        tidmax = tid\n",
    "        \n",
    "print('Max TID is %d' % tidmax)\n"
   ]
  },
  {
   "cell_type": "markdown",
   "metadata": {},
   "source": [
    "## Plot charge states 2->???"
   ]
  },
  {
   "cell_type": "code",
   "execution_count": null,
   "metadata": {},
   "outputs": [],
   "source": [
    "%matplotlib inline \n",
    "plt.figure(figsize = (30,20))\n",
    "\n",
    "z  = tofoff.normalizedTOF( tofavg, downsampleRange=(260000,280000) )\n",
    "zraw = np.copy(z)\n",
    "thresh=50.\n",
    "z[ z<thresh ] = 0.\n",
    "zf,zguess = findTOFPeaks( z )\n",
    "\n",
    "zf = zf[zguess > thresh]\n",
    "zguess = zguess[zguess>thresh]\n",
    "    \n",
    "\n",
    "plt.plot(z)\n",
    "plt.plot(zf, zguess, 'o', ms=10, color='red')"
   ]
  },
  {
   "cell_type": "markdown",
   "metadata": {},
   "source": [
    "# Use peaks to find fit"
   ]
  },
  {
   "cell_type": "code",
   "execution_count": null,
   "metadata": {},
   "outputs": [],
   "source": [
    "# zpeaks = zf[ (zf>3500) & (zf<8000) ]\n",
    "zpeaks = zf\n",
    "print(zpeaks)"
   ]
  },
  {
   "cell_type": "code",
   "execution_count": null,
   "metadata": {},
   "outputs": [],
   "source": [
    "zpeaks.size"
   ]
  },
  {
   "cell_type": "code",
   "execution_count": null,
   "metadata": {},
   "outputs": [],
   "source": [
    "x = np.flip(zpeaks)\n",
    "# m = 130.\n",
    "m = 40.\n",
    "y = m/np.arange(2,zf.size+2).astype(float)\n",
    "\n",
    "polyCoef = np.polyfit(x,y,2)\n",
    "\n",
    "fitPoly = np.poly1d(polyCoef)\n",
    "\n",
    "plt.figure(figsize = (30,20))\n",
    "plt.plot( x,y, 'b' )\n",
    "plt.plot( x,fitPoly(x), 'r' )"
   ]
  },
  {
   "cell_type": "code",
   "execution_count": null,
   "metadata": {},
   "outputs": [],
   "source": []
  },
  {
   "cell_type": "code",
   "execution_count": null,
   "metadata": {},
   "outputs": [],
   "source": [
    "fitPoly"
   ]
  },
  {
   "cell_type": "markdown",
   "metadata": {},
   "source": [
    "## Plot calibrated TOF spectrum"
   ]
  },
  {
   "cell_type": "code",
   "execution_count": null,
   "metadata": {
    "scrolled": false
   },
   "outputs": [],
   "source": [
    "xs = np.arange( zraw.size )\n",
    "mperq = fitPoly(xs)\n",
    "minAt = np.argmin(mperq)\n",
    "\n",
    "mperq = mperq[minAt:]\n",
    "zcalib = zraw[minAt:]\n",
    "    \n",
    "chargeNumber = 1./( mperq / m )\n",
    "\n",
    "chargeCutoff = 20.\n",
    "plt.figure(figsize = (30,20))\n",
    "plt.plot( chargeNumber[chargeNumber < chargeCutoff], zcalib[chargeNumber < chargeCutoff] )\n",
    "plt.xticks(np.arange(chargeCutoff+1.));"
   ]
  },
  {
   "cell_type": "code",
   "execution_count": null,
   "metadata": {},
   "outputs": [],
   "source": []
  },
  {
   "cell_type": "markdown",
   "metadata": {},
   "source": [
    "# Plot calibrated TOF for 10% beam on atomic xenon"
   ]
  },
  {
   "cell_type": "code",
   "execution_count": null,
   "metadata": {},
   "outputs": [],
   "source": [
    "path='/gpfs/exfel/exp/SQS/201921/p002430/raw'\n",
    "run = tofoff.runFormat( 221 )\n",
    "runData = kd.RunDirectory(path+run)\n",
    "tofavg = tofoff.tofAverager( runData )"
   ]
  },
  {
   "cell_type": "code",
   "execution_count": null,
   "metadata": {},
   "outputs": [],
   "source": [
    "from scipy.signal import find_peaks_cwt\n",
    "def findTOFPeaks( toftrace ):\n",
    "    '''\n",
    "    input:\n",
    "        toftrace: use normalized tof trace generated from normalizedTOF, numpy array of floats\n",
    "    output:\n",
    "        peak_positions: returns indexes of the TOF peaks\n",
    "        peak_values: returns height of TOF peaks\n",
    "    Watthew Ware, 2019\n",
    "    '''\n",
    "    toftrace = np.abs(toftrace)\n",
    "    base_width = 20.\n",
    "    # Find indexes of inds\n",
    "    zf = find_peaks_cwt(toftrace, [base_width])\n",
    "    \n",
    "    # Create averaging zones around peaks\n",
    "    zguess = np.zeros_like(zf).astype(float) # allocate space\n",
    "\n",
    "    for ii,zfi in enumerate(zf):\n",
    "        xlow = (np.round( zfi - base_width/2. )).astype(int)\n",
    "        if xlow < 0:\n",
    "            xlow = 0\n",
    "        xhigh = (np.round( zfi + base_width/2. )).astype(int)\n",
    "        if xhigh > toftrace.size:\n",
    "            xhigh = toftrace.size\n",
    "            \n",
    "        zguess[ii] = np.max(toftrace[xlow:xhigh])\n",
    "        \n",
    "    return zf, zguess"
   ]
  },
  {
   "cell_type": "code",
   "execution_count": null,
   "metadata": {
    "scrolled": false
   },
   "outputs": [],
   "source": [
    "%matplotlib inline \n",
    "plt.figure(figsize = (30,20))\n",
    "\n",
    "z  = tofoff.normalizedTOF( tofavg, downsampleRange=(260000,280000) )\n",
    "zraw = np.copy(z)\n",
    "# thresh=0.\n",
    "# z[ z<thresh ] = 0.\n",
    "# zf,zguess = findTOFPeaks( z )\n",
    "\n",
    "# zf = zf[zguess > thresh]\n",
    "# zguess = zguess[zguess>thresh]\n",
    "\n",
    "xs = np.arange( zraw.size )\n",
    "mperq = fitPoly(xs)\n",
    "minAt = np.argmin(mperq)\n",
    "\n",
    "mperq = mperq[minAt:]\n",
    "zcalib = zraw[minAt:]\n",
    "    \n",
    "mXe = 130\n",
    "chargeNumber = 1./( mperq / mXe )\n",
    "    \n",
    "\n",
    "chargeCutoff = 50.\n",
    "plt.figure(figsize = (30,20))\n",
    "plt.plot( chargeNumber[chargeNumber < chargeCutoff], zcalib[chargeNumber < chargeCutoff] )\n",
    "plt.xticks(np.arange(chargeCutoff+1.));\n",
    "# plt.plot(zf, zguess, 'o', ms=10, color='red')"
   ]
  },
  {
   "cell_type": "code",
   "execution_count": null,
   "metadata": {},
   "outputs": [],
   "source": []
  },
  {
   "cell_type": "markdown",
   "metadata": {},
   "source": [
    "# Plot calibrated TOF for 30% beam on atomic xenon"
   ]
  },
  {
   "cell_type": "code",
   "execution_count": null,
   "metadata": {},
   "outputs": [],
   "source": [
    "path='/gpfs/exfel/exp/SQS/201921/p002430/raw'\n",
    "run = tofoff.runFormat( 222 )\n",
    "runData = kd.RunDirectory(path+run)\n",
    "tofavg = tofoff.tofAverager( runData )"
   ]
  },
  {
   "cell_type": "code",
   "execution_count": null,
   "metadata": {},
   "outputs": [],
   "source": [
    "from scipy.signal import find_peaks_cwt\n",
    "def findTOFPeaks( toftrace ):\n",
    "    '''\n",
    "    input:\n",
    "        toftrace: use normalized tof trace generated from normalizedTOF, numpy array of floats\n",
    "    output:\n",
    "        peak_positions: returns indexes of the TOF peaks\n",
    "        peak_values: returns height of TOF peaks\n",
    "    Watthew Ware, 2019\n",
    "    '''\n",
    "    toftrace = np.abs(toftrace)\n",
    "    base_width = 20.\n",
    "    # Find indexes of inds\n",
    "    zf = find_peaks_cwt(toftrace, [base_width])\n",
    "    \n",
    "    # Create averaging zones around peaks\n",
    "    zguess = np.zeros_like(zf).astype(float) # allocate space\n",
    "\n",
    "    for ii,zfi in enumerate(zf):\n",
    "        xlow = (np.round( zfi - base_width/2. )).astype(int)\n",
    "        if xlow < 0:\n",
    "            xlow = 0\n",
    "        xhigh = (np.round( zfi + base_width/2. )).astype(int)\n",
    "        if xhigh > toftrace.size:\n",
    "            xhigh = toftrace.size\n",
    "            \n",
    "        zguess[ii] = np.max(toftrace[xlow:xhigh])\n",
    "        \n",
    "    return zf, zguess"
   ]
  },
  {
   "cell_type": "code",
   "execution_count": null,
   "metadata": {
    "scrolled": false
   },
   "outputs": [],
   "source": [
    "%matplotlib inline \n",
    "plt.figure(figsize = (30,20))\n",
    "\n",
    "z  = tofoff.normalizedTOF( tofavg, downsampleRange=(260000,280000) )\n",
    "zraw = np.copy(z)\n",
    "# thresh=0.\n",
    "# z[ z<thresh ] = 0.\n",
    "# zf,zguess = findTOFPeaks( z )\n",
    "\n",
    "# zf = zf[zguess > thresh]\n",
    "# zguess = zguess[zguess>thresh]\n",
    "\n",
    "xs = np.arange( zraw.size )\n",
    "mperq = fitPoly(xs)\n",
    "minAt = np.argmin(mperq)\n",
    "\n",
    "mperq = mperq[minAt:]\n",
    "zcalib = zraw[minAt:]\n",
    "    \n",
    "mXe = 130\n",
    "chargeNumber = 1./( mperq / mXe )\n",
    "    \n",
    "\n",
    "chargeCutoff = 50.\n",
    "plt.figure(figsize = (30,20))\n",
    "plt.plot( chargeNumber[chargeNumber < chargeCutoff], zcalib[chargeNumber < chargeCutoff] )\n",
    "plt.xticks(np.arange(chargeCutoff+1.));\n",
    "# plt.plot(zf, zguess, 'o', ms=10, color='red')"
   ]
  },
  {
   "cell_type": "code",
   "execution_count": null,
   "metadata": {},
   "outputs": [],
   "source": []
  },
  {
   "cell_type": "markdown",
   "metadata": {},
   "source": [
    "# Plot calibrated TOF for ~100% beam on atomic xenon"
   ]
  },
  {
   "cell_type": "code",
   "execution_count": null,
   "metadata": {},
   "outputs": [],
   "source": [
    "path='/gpfs/exfel/exp/SQS/201921/p002430/raw'\n",
    "run = tofoff.runFormat( 223 )\n",
    "runData = kd.RunDirectory(path+run)\n",
    "tofavg = tofoff.tofAverager( runData )"
   ]
  },
  {
   "cell_type": "code",
   "execution_count": null,
   "metadata": {},
   "outputs": [],
   "source": [
    "from scipy.signal import find_peaks_cwt\n",
    "def findTOFPeaks( toftrace ):\n",
    "    '''\n",
    "    input:\n",
    "        toftrace: use normalized tof trace generated from normalizedTOF, numpy array of floats\n",
    "    output:\n",
    "        peak_positions: returns indexes of the TOF peaks\n",
    "        peak_values: returns height of TOF peaks\n",
    "    Watthew Ware, 2019\n",
    "    '''\n",
    "    toftrace = np.abs(toftrace)\n",
    "    base_width = 20.\n",
    "    # Find indexes of inds\n",
    "    zf = find_peaks_cwt(toftrace, [base_width])\n",
    "    \n",
    "    # Create averaging zones around peaks\n",
    "    zguess = np.zeros_like(zf).astype(float) # allocate space\n",
    "\n",
    "    for ii,zfi in enumerate(zf):\n",
    "        xlow = (np.round( zfi - base_width/2. )).astype(int)\n",
    "        if xlow < 0:\n",
    "            xlow = 0\n",
    "        xhigh = (np.round( zfi + base_width/2. )).astype(int)\n",
    "        if xhigh > toftrace.size:\n",
    "            xhigh = toftrace.size\n",
    "            \n",
    "        zguess[ii] = np.max(toftrace[xlow:xhigh])\n",
    "        \n",
    "    return zf, zguess"
   ]
  },
  {
   "cell_type": "code",
   "execution_count": null,
   "metadata": {},
   "outputs": [],
   "source": [
    "%matplotlib inline \n",
    "plt.figure(figsize = (30,20))\n",
    "\n",
    "z  = tofoff.normalizedTOF( tofavg, downsampleRange=(260000,280000) )\n",
    "zraw = np.copy(z)\n",
    "# thresh=0.\n",
    "# z[ z<thresh ] = 0.\n",
    "# zf,zguess = findTOFPeaks( z )\n",
    "\n",
    "# zf = zf[zguess > thresh]\n",
    "# zguess = zguess[zguess>thresh]\n",
    "\n",
    "xs = np.arange( zraw.size )\n",
    "mperq = fitPoly(xs)\n",
    "minAt = np.argmin(mperq)\n",
    "\n",
    "mperq = mperq[minAt:]\n",
    "zcalib = zraw[minAt:]\n",
    "    \n",
    "mXe = 130\n",
    "chargeNumber = 1./( mperq / mXe )\n",
    "    \n",
    "\n",
    "chargeCutoff = 50.\n",
    "plt.figure(figsize = (30,20))\n",
    "plt.plot( chargeNumber[chargeNumber < chargeCutoff], zcalib[chargeNumber < chargeCutoff] )\n",
    "plt.xticks(np.arange(chargeCutoff+1.));\n",
    "# plt.plot(zf, zguess, 'o', ms=10, color='red')"
   ]
  },
  {
   "cell_type": "markdown",
   "metadata": {},
   "source": [
    "# Plot calibrated TOF for 100% beam on atomic xenon"
   ]
  },
  {
   "cell_type": "code",
   "execution_count": null,
   "metadata": {},
   "outputs": [],
   "source": [
    "path='/gpfs/exfel/exp/SQS/201921/p002430/raw'\n",
    "run = tofoff.runFormat( 225 )\n",
    "runData = kd.RunDirectory(path+run)\n",
    "tofavg = tofoff.tofAverager( runData )"
   ]
  },
  {
   "cell_type": "code",
   "execution_count": null,
   "metadata": {},
   "outputs": [],
   "source": [
    "from scipy.signal import find_peaks_cwt\n",
    "def findTOFPeaks( toftrace ):\n",
    "    '''\n",
    "    input:\n",
    "        toftrace: use normalized tof trace generated from normalizedTOF, numpy array of floats\n",
    "    output:\n",
    "        peak_positions: returns indexes of the TOF peaks\n",
    "        peak_values: returns height of TOF peaks\n",
    "    Watthew Ware, 2019\n",
    "    '''\n",
    "    toftrace = np.abs(toftrace)\n",
    "    base_width = 20.\n",
    "    # Find indexes of inds\n",
    "    zf = find_peaks_cwt(toftrace, [base_width])\n",
    "    \n",
    "    # Create averaging zones around peaks\n",
    "    zguess = np.zeros_like(zf).astype(float) # allocate space\n",
    "\n",
    "    for ii,zfi in enumerate(zf):\n",
    "        xlow = (np.round( zfi - base_width/2. )).astype(int)\n",
    "        if xlow < 0:\n",
    "            xlow = 0\n",
    "        xhigh = (np.round( zfi + base_width/2. )).astype(int)\n",
    "        if xhigh > toftrace.size:\n",
    "            xhigh = toftrace.size\n",
    "            \n",
    "        zguess[ii] = np.max(toftrace[xlow:xhigh])\n",
    "        \n",
    "    return zf, zguess"
   ]
  },
  {
   "cell_type": "code",
   "execution_count": null,
   "metadata": {},
   "outputs": [],
   "source": [
    "%matplotlib inline \n",
    "plt.figure(figsize = (30,20))\n",
    "\n",
    "z  = tofoff.normalizedTOF( tofavg, downsampleRange=(260000,280000) )\n",
    "zraw = np.copy(z)\n",
    "# thresh=0.\n",
    "# z[ z<thresh ] = 0.\n",
    "# zf,zguess = findTOFPeaks( z )\n",
    "\n",
    "# zf = zf[zguess > thresh]\n",
    "# zguess = zguess[zguess>thresh]\n",
    "\n",
    "xs = np.arange( zraw.size )\n",
    "mperq = fitPoly(xs)\n",
    "minAt = np.argmin(mperq)\n",
    "\n",
    "mperq = mperq[minAt:]\n",
    "zcalib = zraw[minAt:]\n",
    "    \n",
    "mXe = 130\n",
    "chargeNumber = 1./( mperq / mXe )\n",
    "    \n",
    "\n",
    "chargeCutoff = 50.\n",
    "plt.figure(figsize = (30,20))\n",
    "plt.plot( chargeNumber[chargeNumber < chargeCutoff], zcalib[chargeNumber < chargeCutoff] )\n",
    "plt.xticks(np.arange(chargeCutoff+1.));\n",
    "# plt.plot(zf, zguess, 'o', ms=10, color='red')\n",
    "\n",
    "plt.savefig('xenon-run225-fullbeam.png',)"
   ]
  },
  {
   "cell_type": "code",
   "execution_count": null,
   "metadata": {},
   "outputs": [],
   "source": []
  }
 ],
 "metadata": {
  "kernelspec": {
   "display_name": "xfel",
   "language": "python",
   "name": "xfel-1.1"
  },
  "language_info": {
   "codemirror_mode": {
    "name": "ipython",
    "version": 3
   },
   "file_extension": ".py",
   "mimetype": "text/x-python",
   "name": "python",
   "nbconvert_exporter": "python",
   "pygments_lexer": "ipython3",
   "version": "3.7.1"
  }
 },
 "nbformat": 4,
 "nbformat_minor": 2
}
