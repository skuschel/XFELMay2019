{
 "cells": [
  {
   "cell_type": "code",
   "execution_count": null,
   "metadata": {},
   "outputs": [],
   "source": [
    "%gui qt\n",
    "# Plot options\n",
    "import matplotlib.pyplot as plt\n",
    "\n",
    "# Import required libraries\n",
    "import numpy as np\n",
    "import pyqtgraph as pg\n",
    "import collections\n",
    "\n",
    "# Import karabo libraries\n",
    "import karabo_bridge as kb\n",
    "import karabo_data as kd\n",
    "import xfelmay2019 as xfel"
   ]
  },
  {
   "cell_type": "code",
   "execution_count": null,
   "metadata": {},
   "outputs": [],
   "source": [
    "# _tofplot = pg.plot(title='ToF')\n",
    "def plottof(d):\n",
    "    '''\n",
    "    Plots current time of flight data from one shot.\n",
    "    Updates _tofplot window\n",
    "    Input:\n",
    "        tof data\n",
    "    Output:\n",
    "        None, updates plot window\n",
    "    '''\n",
    "    #print(d.shape)\n",
    "    _tofplot.plot(d.flatten(), clear=True)\n",
    "    pg.QtGui.QApplication.processEvents()\n",
    "    \n",
    "_pulseEnergyPlot = pg.plot(title='Pulse energy')\n",
    "pulseEnergyDeque = collections.deque([],2000)\n",
    "def plotPulseEnergy(d):\n",
    "    pulseEnergyDeque.append(d)\n",
    "    _pulseEnergyPlot.plot(pulseEnergyDeque, clear=True)\n",
    "    pg.QtGui.QApplication.processEvents()\n",
    "    \n",
    "    \n",
    "# _dummyplot = pg.plot(title='Dummy')\n",
    "def plotdummy():\n",
    "    _dummyplot.plot( np.arange(10) , clear=True)\n",
    "    pg.QtGui.QApplication.processEvents()"
   ]
  },
  {
   "cell_type": "code",
   "execution_count": null,
   "metadata": {},
   "outputs": [],
   "source": [
    "# source='tcp://10.253.0.142:6666'\n",
    "source='tcp://127.0.0.1:9999'"
   ]
  },
  {
   "cell_type": "code",
   "execution_count": null,
   "metadata": {},
   "outputs": [],
   "source": [
    "for pe in xfel.getPulseEnergy(xfel.servedata(source)):\n",
    "#     plottof( xfel.getTof( ds ) )\n",
    "    plotPulseEnergy( pe )\n"
   ]
  },
  {
   "cell_type": "code",
   "execution_count": null,
   "metadata": {},
   "outputs": [],
   "source": [
    "for data, meta in (xfel.servedata(source)):\n",
    "    break"
   ]
  },
  {
   "cell_type": "code",
   "execution_count": null,
   "metadata": {},
   "outputs": [],
   "source": [
    "data.keys()"
   ]
  },
  {
   "cell_type": "code",
   "execution_count": null,
   "metadata": {},
   "outputs": [],
   "source": [
    "data['SA3_XTD10_XGM/XGM/DOOCS:output'].keys()"
   ]
  },
  {
   "cell_type": "code",
   "execution_count": null,
   "metadata": {},
   "outputs": [],
   "source": [
    "from karabo_bridge import Client"
   ]
  },
  {
   "cell_type": "code",
   "execution_count": null,
   "metadata": {},
   "outputs": [],
   "source": [
    "c = Client( source )"
   ]
  },
  {
   "cell_type": "code",
   "execution_count": null,
   "metadata": {},
   "outputs": [],
   "source": [
    "data,meta = c.next()"
   ]
  },
  {
   "cell_type": "code",
   "execution_count": null,
   "metadata": {},
   "outputs": [],
   "source": [
    "meta"
   ]
  },
  {
   "cell_type": "code",
   "execution_count": null,
   "metadata": {},
   "outputs": [],
   "source": [
    "data"
   ]
  },
  {
   "cell_type": "code",
   "execution_count": null,
   "metadata": {},
   "outputs": [],
   "source": [
    "data.keys()"
   ]
  },
  {
   "cell_type": "code",
   "execution_count": null,
   "metadata": {},
   "outputs": [],
   "source": [
    "data['SA3_XTD10_XGM/XGM/DOOCS:output'].keys()"
   ]
  },
  {
   "cell_type": "code",
   "execution_count": null,
   "metadata": {},
   "outputs": [],
   "source": [
    "data['SA3_XTD10_XGM/XGM/DOOCS:output']['data.trainId']"
   ]
  },
  {
   "cell_type": "code",
   "execution_count": null,
   "metadata": {},
   "outputs": [],
   "source": []
  }
 ],
 "metadata": {
  "kernelspec": {
   "display_name": "Python 3",
   "language": "python",
   "name": "python3"
  },
  "language_info": {
   "codemirror_mode": {
    "name": "ipython",
    "version": 3
   },
   "file_extension": ".py",
   "mimetype": "text/x-python",
   "name": "python",
   "nbconvert_exporter": "python",
   "pygments_lexer": "ipython3",
   "version": "3.6.7"
  }
 },
 "nbformat": 4,
 "nbformat_minor": 2
}
