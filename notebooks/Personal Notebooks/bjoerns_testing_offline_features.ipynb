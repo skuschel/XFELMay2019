{
 "cells": [
  {
   "cell_type": "markdown",
   "metadata": {},
   "source": [
    "Load the python module"
   ]
  },
  {
   "cell_type": "code",
   "execution_count": null,
   "metadata": {},
   "outputs": [],
   "source": [
    "import sqs_nqs_tools as nqs\n",
    "from sqs_nqs_tools.offline import access"
   ]
  },
  {
   "cell_type": "markdown",
   "metadata": {},
   "source": [
    "Test Features"
   ]
  },
  {
   "cell_type": "code",
   "execution_count": null,
   "metadata": {},
   "outputs": [],
   "source": [
    "access.runFormat(10)"
   ]
  },
  {
   "cell_type": "code",
   "execution_count": null,
   "metadata": {},
   "outputs": [],
   "source": [
    " "
   ]
  },
  {
   "cell_type": "markdown",
   "metadata": {},
   "source": [
    "check what functions / submodules are available for package"
   ]
  },
  {
   "cell_type": "code",
   "execution_count": null,
   "metadata": {},
   "outputs": [],
   "source": [
    "dir(nqs.offline)"
   ]
  },
  {
   "cell_type": "code",
   "execution_count": null,
   "metadata": {},
   "outputs": [],
   "source": []
  },
  {
   "cell_type": "markdown",
   "metadata": {},
   "source": [
    "# Unit Test Routines"
   ]
  },
  {
   "cell_type": "markdown",
   "metadata": {},
   "source": [
    "sqs_nqs_tools.offline --> access"
   ]
  },
  {
   "cell_type": "code",
   "execution_count": null,
   "metadata": {},
   "outputs": [],
   "source": []
  },
  {
   "cell_type": "code",
   "execution_count": null,
   "metadata": {},
   "outputs": [],
   "source": [
    "from sqs_nqs_tools.offline import access\n",
    "\n",
    "# access.runFormat()\n",
    "try:\n",
    "    if access.runFormat(10) == '/r0010':\n",
    "        print(\"access.runFormat() - OK\")\n",
    "    else:\n",
    "        print(\"access.runFormat() - WARN\")\n",
    "except:\n",
    "    print(\"access.runFormat() - FAIL\")"
   ]
  },
  {
   "cell_type": "markdown",
   "metadata": {},
   "source": [
    "### Tests assuming there is a run 100 in directory for exp 2195 and user has access to exp 2195\n",
    "otherwise please change the variale runDir and the expected output value"
   ]
  },
  {
   "cell_type": "code",
   "execution_count": null,
   "metadata": {},
   "outputs": [],
   "source": [
    "from sqs_nqs_tools.offline import access\n",
    "import numpy as np\n",
    "\n",
    "expected_out=(3014,600000)\n",
    "\n",
    "# access.getData()\n",
    "try:\n",
    "    runDir=\"/gpfs/exfel/exp/SQS/201802/p002195/scratch/r0100\"\n",
    "    data=access.getData(runDir,'SQS_DIGITIZER_UTC1/ADC/1:network','digitizers.channel_1_A.raw.samples')\n",
    "    if np.asarray(data).shape == expected_out:\n",
    "        print(\"access.getData() - OK\")\n",
    "    else:\n",
    "        print(\"access.getData() - WARN\")\n",
    "        #print(np.asarray(data).shape)\n",
    "except:\n",
    "    print(\"access.getData() - FAIL\")"
   ]
  },
  {
   "cell_type": "code",
   "execution_count": null,
   "metadata": {},
   "outputs": [],
   "source": []
  },
  {
   "cell_type": "code",
   "execution_count": null,
   "metadata": {},
   "outputs": [],
   "source": []
  }
 ],
 "metadata": {
  "kernelspec": {
   "display_name": "Python 3",
   "language": "python",
   "name": "python3"
  },
  "language_info": {
   "codemirror_mode": {
    "name": "ipython",
    "version": 3
   },
   "file_extension": ".py",
   "mimetype": "text/x-python",
   "name": "python",
   "nbconvert_exporter": "python",
   "pygments_lexer": "ipython3",
   "version": "3.6.7"
  }
 },
 "nbformat": 4,
 "nbformat_minor": 2
}
