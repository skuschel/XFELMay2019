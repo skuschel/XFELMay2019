{
 "cells": [
  {
   "cell_type": "markdown",
   "metadata": {},
   "source": [
    "# Prepare for running python scripts and (python) jupyter notebooks\n",
    "\n",
    "With this script you can install the python module `sqs_nqs_tools` that is used throughout the notebooks and scripts from the repository\n",
    "\n",
    "*With executing the follwing cell (click into it -> SHIFT+ENTER) you install it in your home directory. Depending from where you access the notebook only on maxwell or ONC (exflonc)*"
   ]
  },
  {
   "cell_type": "code",
   "execution_count": null,
   "metadata": {
    "scrolled": true
   },
   "outputs": [],
   "source": [
    "!cd ..; ./setup.py develop --user"
   ]
  },
  {
   "cell_type": "markdown",
   "metadata": {},
   "source": [
    "With executing the following cell you can test the installation / whether the module already has been installed.\n",
    "\n",
    "Please restart the Kernel after installation, otherwise the Kernel does not know about the recent installation."
   ]
  },
  {
   "cell_type": "code",
   "execution_count": null,
   "metadata": {},
   "outputs": [],
   "source": [
    "import sqs_nqs_tools"
   ]
  }
 ],
 "metadata": {
  "kernelspec": {
   "display_name": "Python 3",
   "language": "python",
   "name": "python3"
  },
  "language_info": {
   "codemirror_mode": {
    "name": "ipython",
    "version": 3
   },
   "file_extension": ".py",
   "mimetype": "text/x-python",
   "name": "python",
   "nbconvert_exporter": "python",
   "pygments_lexer": "ipython3",
   "version": "3.6.7"
  }
 },
 "nbformat": 4,
 "nbformat_minor": 2
}
