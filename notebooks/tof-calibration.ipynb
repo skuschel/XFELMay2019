{
 "cells": [
  {
   "cell_type": "code",
   "execution_count": null,
   "metadata": {
    "scrolled": true
   },
   "outputs": [],
   "source": [
    "# Plot options\n",
    "import matplotlib.pyplot as plt\n",
    "\n",
    "# Import required libraries\n",
    "import numpy as np\n",
    "import pyqtgraph as pg\n",
    "\n",
    "# Import karabo libraries\n",
    "import karabo_bridge as kb\n",
    "import karabo_data as kd\n",
    "import sqs_nqs_tools.offline.tof as tofoff\n"
   ]
  },
  {
   "cell_type": "markdown",
   "metadata": {},
   "source": [
    "# Generate averaged TOF spectrum from run 217, then use to calibrate TOF spectrum \n",
    "## Sample: Atomic argon"
   ]
  },
  {
   "cell_type": "code",
   "execution_count": null,
   "metadata": {},
   "outputs": [],
   "source": [
    "path='/gpfs/exfel/exp/SQS/201921/p002430/raw'\n",
    "run = tofoff.runFormat( 217 )\n",
    "runData = kd.RunDirectory(path+run)\n",
    "tofavg = tofoff.tofAverager( runData )"
   ]
  },
  {
   "cell_type": "code",
   "execution_count": null,
   "metadata": {},
   "outputs": [],
   "source": [
    "from scipy.signal import find_peaks_cwt\n",
    "def findTOFPeaks( toftrace ):\n",
    "    '''\n",
    "    input:\n",
    "        toftrace: use normalized tof trace generated from normalizedTOF, numpy array of floats\n",
    "    output:\n",
    "        peak_positions: returns indexes of the TOF peaks\n",
    "        peak_values: returns height of TOF peaks\n",
    "    Watthew Ware, 2019\n",
    "    '''\n",
    "    toftrace = np.abs(toftrace)\n",
    "    base_width = 20.\n",
    "    # Find indexes of inds\n",
    "    zf = find_peaks_cwt(toftrace, [base_width])\n",
    "    \n",
    "    # Create averaging zones around peaks\n",
    "    zguess = np.zeros_like(zf).astype(float) # allocate space\n",
    "\n",
    "    for ii,zfi in enumerate(zf):\n",
    "        xlow = (np.round( zfi - base_width/2. )).astype(int)\n",
    "        if xlow < 0:\n",
    "            xlow = 0\n",
    "        xhigh = (np.round( zfi + base_width/2. )).astype(int)\n",
    "        if xhigh > toftrace.size:\n",
    "            xhigh = toftrace.size\n",
    "            \n",
    "        zguess[ii] = np.max(toftrace[xlow:xhigh])\n",
    "        \n",
    "    return zf, zguess"
   ]
  },
  {
   "cell_type": "markdown",
   "metadata": {},
   "source": [
    "## Plot charge states 2->???"
   ]
  },
  {
   "cell_type": "code",
   "execution_count": null,
   "metadata": {},
   "outputs": [],
   "source": [
    "%matplotlib inline \n",
    "plt.figure(figsize = (30,20))\n",
    "\n",
    "# z  = tofoff.normalizedTOF( tofavg, downsampleRange=(260000,280000) )\n",
    "z = tofavg[260000:280000]\n",
    "zraw = np.copy(z)\n",
    "thresh=50\n",
    "# z[ z<thresh ] = 0.\n",
    "zf,zguess = findTOFPeaks( z )\n",
    "\n",
    "zf = zf[zguess > thresh]\n",
    "zguess = zguess[zguess>thresh]\n",
    "    \n",
    "\n",
    "plt.plot(-z)\n",
    "plt.plot(zf, zguess, 'o', ms=10, color='red')"
   ]
  },
  {
   "cell_type": "markdown",
   "metadata": {},
   "source": [
    "# Use peaks to find fit"
   ]
  },
  {
   "cell_type": "code",
   "execution_count": null,
   "metadata": {},
   "outputs": [],
   "source": [
    "# zpeaks = zf[ (zf>3500) & (zf<8000) ]\n",
    "zpeaks = zf\n",
    "print(zpeaks)"
   ]
  },
  {
   "cell_type": "code",
   "execution_count": null,
   "metadata": {},
   "outputs": [],
   "source": [
    "zpeaks.size"
   ]
  },
  {
   "cell_type": "code",
   "execution_count": null,
   "metadata": {},
   "outputs": [],
   "source": [
    "x = np.flip(zpeaks, axis=0)\n",
    "# m = 130.\n",
    "m = 40.\n",
    "y = m/np.arange(2,zf.size+2).astype(float)\n",
    "\n",
    "polyCoef = np.polyfit(x,y,2)\n",
    "\n",
    "fitPoly = np.poly1d(polyCoef)\n",
    "\n",
    "plt.figure(figsize = (30,20))\n",
    "plt.plot( x,y, 'b' )\n",
    "plt.plot( x,fitPoly(x), 'r' )"
   ]
  },
  {
   "cell_type": "code",
   "execution_count": null,
   "metadata": {},
   "outputs": [],
   "source": []
  },
  {
   "cell_type": "code",
   "execution_count": null,
   "metadata": {},
   "outputs": [],
   "source": [
    "fitPoly"
   ]
  },
  {
   "cell_type": "markdown",
   "metadata": {},
   "source": [
    "## Plot calibrated TOF spectrum"
   ]
  },
  {
   "cell_type": "code",
   "execution_count": null,
   "metadata": {
    "scrolled": false
   },
   "outputs": [],
   "source": [
    "xs = np.arange( zraw.size )\n",
    "mperq = fitPoly(xs)\n",
    "minAt = np.argmin(mperq)\n",
    "\n",
    "mperq = mperq[minAt:]\n",
    "zcalib = zraw[minAt:]\n",
    "    \n",
    "chargeNumber = 1./( mperq / m )\n",
    "\n",
    "chargeCutoff = 20.\n",
    "plt.figure(figsize = (30,20))\n",
    "plt.plot( chargeNumber[chargeNumber < chargeCutoff], zcalib[chargeNumber < chargeCutoff] )\n",
    "plt.xticks(np.arange(chargeCutoff+1.));\n",
    "plt.grid()"
   ]
  },
  {
   "cell_type": "code",
   "execution_count": null,
   "metadata": {},
   "outputs": [],
   "source": []
  },
  {
   "cell_type": "markdown",
   "metadata": {},
   "source": [
    "# Plot calibrated TOF for 10% beam on atomic xenon"
   ]
  },
  {
   "cell_type": "code",
   "execution_count": null,
   "metadata": {},
   "outputs": [],
   "source": [
    "path='/gpfs/exfel/exp/SQS/201921/p002430/raw'\n",
    "run = tofoff.runFormat( 221 )\n",
    "runData = kd.RunDirectory(path+run)\n",
    "tofavg = tofoff.tofAverager( runData )"
   ]
  },
  {
   "cell_type": "code",
   "execution_count": null,
   "metadata": {},
   "outputs": [],
   "source": [
    "from scipy.signal import find_peaks_cwt\n",
    "def findTOFPeaks( toftrace ):\n",
    "    '''\n",
    "    input:\n",
    "        toftrace: use normalized tof trace generated from normalizedTOF, numpy array of floats\n",
    "    output:\n",
    "        peak_positions: returns indexes of the TOF peaks\n",
    "        peak_values: returns height of TOF peaks\n",
    "    Watthew Ware, 2019\n",
    "    '''\n",
    "    toftrace = np.abs(toftrace)\n",
    "    base_width = 20.\n",
    "    # Find indexes of inds\n",
    "    zf = find_peaks_cwt(toftrace, [base_width])\n",
    "    \n",
    "    # Create averaging zones around peaks\n",
    "    zguess = np.zeros_like(zf).astype(float) # allocate space\n",
    "\n",
    "    for ii,zfi in enumerate(zf):\n",
    "        xlow = (np.round( zfi - base_width/2. )).astype(int)\n",
    "        if xlow < 0:\n",
    "            xlow = 0\n",
    "        xhigh = (np.round( zfi + base_width/2. )).astype(int)\n",
    "        if xhigh > toftrace.size:\n",
    "            xhigh = toftrace.size\n",
    "            \n",
    "        zguess[ii] = np.max(toftrace[xlow:xhigh])\n",
    "        \n",
    "    return zf, zguess"
   ]
  },
  {
   "cell_type": "code",
   "execution_count": null,
   "metadata": {
    "scrolled": false
   },
   "outputs": [],
   "source": [
    "%matplotlib inline \n",
    "plt.figure(figsize = (30,20))\n",
    "\n",
    "z  = tofoff.normalizedTOF( tofavg, downsampleRange=(260000,280000) )\n",
    "zraw = np.copy(z)\n",
    "# thresh=0.\n",
    "# z[ z<thresh ] = 0.\n",
    "# zf,zguess = findTOFPeaks( z )\n",
    "\n",
    "# zf = zf[zguess > thresh]\n",
    "# zguess = zguess[zguess>thresh]\n",
    "\n",
    "xs = np.arange( zraw.size )\n",
    "mperq = fitPoly(xs)\n",
    "minAt = np.argmin(mperq)\n",
    "\n",
    "mperq = mperq[minAt:]\n",
    "zcalib = zraw[minAt:]\n",
    "    \n",
    "mXe = 130\n",
    "chargeNumber = 1./( mperq / mXe )\n",
    "    \n",
    "\n",
    "chargeCutoff = 50.\n",
    "plt.figure(figsize = (30,20))\n",
    "plt.plot( chargeNumber[chargeNumber < chargeCutoff], zcalib[chargeNumber < chargeCutoff] )\n",
    "plt.xticks(np.arange(chargeCutoff+1.));\n",
    "plt.grid()\n",
    "# plt.plot(zf, zguess, 'o', ms=10, color='red')"
   ]
  },
  {
   "cell_type": "code",
   "execution_count": null,
   "metadata": {},
   "outputs": [],
   "source": []
  },
  {
   "cell_type": "markdown",
   "metadata": {},
   "source": [
    "# Plot calibrated TOF for 30% beam on atomic xenon"
   ]
  },
  {
   "cell_type": "code",
   "execution_count": null,
   "metadata": {},
   "outputs": [],
   "source": [
    "path='/gpfs/exfel/exp/SQS/201921/p002430/raw'\n",
    "run = tofoff.runFormat( 222 )\n",
    "runData = kd.RunDirectory(path+run)\n",
    "tofavg = tofoff.tofAverager( runData )"
   ]
  },
  {
   "cell_type": "code",
   "execution_count": null,
   "metadata": {},
   "outputs": [],
   "source": [
    "from scipy.signal import find_peaks_cwt\n",
    "def findTOFPeaks( toftrace ):\n",
    "    '''\n",
    "    input:\n",
    "        toftrace: use normalized tof trace generated from normalizedTOF, numpy array of floats\n",
    "    output:\n",
    "        peak_positions: returns indexes of the TOF peaks\n",
    "        peak_values: returns height of TOF peaks\n",
    "    Watthew Ware, 2019\n",
    "    '''\n",
    "    toftrace = np.abs(toftrace)\n",
    "    base_width = 20.\n",
    "    # Find indexes of inds\n",
    "    zf = find_peaks_cwt(toftrace, [base_width])\n",
    "    \n",
    "    # Create averaging zones around peaks\n",
    "    zguess = np.zeros_like(zf).astype(float) # allocate space\n",
    "\n",
    "    for ii,zfi in enumerate(zf):\n",
    "        xlow = (np.round( zfi - base_width/2. )).astype(int)\n",
    "        if xlow < 0:\n",
    "            xlow = 0\n",
    "        xhigh = (np.round( zfi + base_width/2. )).astype(int)\n",
    "        if xhigh > toftrace.size:\n",
    "            xhigh = toftrace.size\n",
    "            \n",
    "        zguess[ii] = np.max(toftrace[xlow:xhigh])\n",
    "        \n",
    "    return zf, zguess"
   ]
  },
  {
   "cell_type": "code",
   "execution_count": null,
   "metadata": {
    "scrolled": false
   },
   "outputs": [],
   "source": [
    "%matplotlib inline \n",
    "plt.figure(figsize = (30,20))\n",
    "\n",
    "z  = tofoff.normalizedTOF( tofavg, downsampleRange=(260000,280000) )\n",
    "zraw = np.copy(z)\n",
    "# thresh=0.\n",
    "# z[ z<thresh ] = 0.\n",
    "# zf,zguess = findTOFPeaks( z )\n",
    "\n",
    "# zf = zf[zguess > thresh]\n",
    "# zguess = zguess[zguess>thresh]\n",
    "\n",
    "xs = np.arange( zraw.size )\n",
    "mperq = fitPoly(xs)\n",
    "minAt = np.argmin(mperq)\n",
    "\n",
    "mperq = mperq[minAt:]\n",
    "zcalib = zraw[minAt:]\n",
    "    \n",
    "mXe = 130\n",
    "chargeNumber = 1./( mperq / mXe )\n",
    "    \n",
    "\n",
    "chargeCutoff = 50.\n",
    "plt.figure(figsize = (30,20))\n",
    "plt.plot( chargeNumber[chargeNumber < chargeCutoff], zcalib[chargeNumber < chargeCutoff] )\n",
    "plt.xticks(np.arange(chargeCutoff+1.));\n",
    "plt.grid()\n",
    "# plt.plot(zf, zguess, 'o', ms=10, color='red')"
   ]
  },
  {
   "cell_type": "code",
   "execution_count": null,
   "metadata": {},
   "outputs": [],
   "source": []
  },
  {
   "cell_type": "markdown",
   "metadata": {},
   "source": [
    "# Plot calibrated TOF for ~100% beam on atomic xenon"
   ]
  },
  {
   "cell_type": "code",
   "execution_count": null,
   "metadata": {},
   "outputs": [],
   "source": [
    "path='/gpfs/exfel/exp/SQS/201921/p002430/raw'\n",
    "run = tofoff.runFormat( 223 )\n",
    "runData = kd.RunDirectory(path+run)\n",
    "tofavg = tofoff.tofAverager( runData )"
   ]
  },
  {
   "cell_type": "code",
   "execution_count": null,
   "metadata": {},
   "outputs": [],
   "source": [
    "from scipy.signal import find_peaks_cwt\n",
    "def findTOFPeaks( toftrace ):\n",
    "    '''\n",
    "    input:\n",
    "        toftrace: use normalized tof trace generated from normalizedTOF, numpy array of floats\n",
    "    output:\n",
    "        peak_positions: returns indexes of the TOF peaks\n",
    "        peak_values: returns height of TOF peaks\n",
    "    Watthew Ware, 2019\n",
    "    '''\n",
    "    toftrace = np.abs(toftrace)\n",
    "    base_width = 20.\n",
    "    # Find indexes of inds\n",
    "    zf = find_peaks_cwt(toftrace, [base_width])\n",
    "    \n",
    "    # Create averaging zones around peaks\n",
    "    zguess = np.zeros_like(zf).astype(float) # allocate space\n",
    "\n",
    "    for ii,zfi in enumerate(zf):\n",
    "        xlow = (np.round( zfi - base_width/2. )).astype(int)\n",
    "        if xlow < 0:\n",
    "            xlow = 0\n",
    "        xhigh = (np.round( zfi + base_width/2. )).astype(int)\n",
    "        if xhigh > toftrace.size:\n",
    "            xhigh = toftrace.size\n",
    "            \n",
    "        zguess[ii] = np.max(toftrace[xlow:xhigh])\n",
    "        \n",
    "    return zf, zguess"
   ]
  },
  {
   "cell_type": "code",
   "execution_count": null,
   "metadata": {},
   "outputs": [],
   "source": [
    "%matplotlib inline \n",
    "plt.figure(figsize = (30,20))\n",
    "\n",
    "z  = tofoff.normalizedTOF( tofavg, downsampleRange=(260000,280000) )\n",
    "zraw = np.copy(z)\n",
    "# thresh=0.\n",
    "# z[ z<thresh ] = 0.\n",
    "# zf,zguess = findTOFPeaks( z )\n",
    "\n",
    "# zf = zf[zguess > thresh]\n",
    "# zguess = zguess[zguess>thresh]\n",
    "\n",
    "xs = np.arange( zraw.size )\n",
    "mperq = fitPoly(xs)\n",
    "minAt = np.argmin(mperq)\n",
    "\n",
    "mperq = mperq[minAt:]\n",
    "zcalib = zraw[minAt:]\n",
    "    \n",
    "mXe = 130\n",
    "chargeNumber = 1./( mperq / mXe )\n",
    "    \n",
    "\n",
    "chargeCutoff = 50.\n",
    "plt.figure(figsize = (30,20))\n",
    "plt.plot( chargeNumber[chargeNumber < chargeCutoff], zcalib[chargeNumber < chargeCutoff] )\n",
    "plt.xticks(np.arange(chargeCutoff+1.));\n",
    "plt.grid()\n",
    "# plt.plot(zf, zguess, 'o', ms=10, color='red')"
   ]
  },
  {
   "cell_type": "markdown",
   "metadata": {},
   "source": [
    "# Plot calibrated TOF for 100% beam on atomic xenon"
   ]
  },
  {
   "cell_type": "code",
   "execution_count": null,
   "metadata": {},
   "outputs": [],
   "source": [
    "path='/gpfs/exfel/exp/SQS/201921/p002430/raw'\n",
    "run = tofoff.runFormat( 225 )\n",
    "runData = kd.RunDirectory(path+run)\n",
    "tofavg = tofoff.tofAverager( runData )"
   ]
  },
  {
   "cell_type": "code",
   "execution_count": null,
   "metadata": {},
   "outputs": [],
   "source": [
    "from scipy.signal import find_peaks_cwt\n",
    "def findTOFPeaks( toftrace ):\n",
    "    '''\n",
    "    input:\n",
    "        toftrace: use normalized tof trace generated from normalizedTOF, numpy array of floats\n",
    "    output:\n",
    "        peak_positions: returns indexes of the TOF peaks\n",
    "        peak_values: returns height of TOF peaks\n",
    "    Watthew Ware, 2019\n",
    "    '''\n",
    "    toftrace = np.abs(toftrace)\n",
    "    base_width = 20.\n",
    "    # Find indexes of inds\n",
    "    zf = find_peaks_cwt(toftrace, [base_width])\n",
    "    \n",
    "    # Create averaging zones around peaks\n",
    "    zguess = np.zeros_like(zf).astype(float) # allocate space\n",
    "\n",
    "    for ii,zfi in enumerate(zf):\n",
    "        xlow = (np.round( zfi - base_width/2. )).astype(int)\n",
    "        if xlow < 0:\n",
    "            xlow = 0\n",
    "        xhigh = (np.round( zfi + base_width/2. )).astype(int)\n",
    "        if xhigh > toftrace.size:\n",
    "            xhigh = toftrace.size\n",
    "            \n",
    "        zguess[ii] = np.max(toftrace[xlow:xhigh])\n",
    "        \n",
    "    return zf, zguess"
   ]
  },
  {
   "cell_type": "code",
   "execution_count": null,
   "metadata": {},
   "outputs": [],
   "source": [
    "%matplotlib inline \n",
    "plt.figure(figsize = (30,20))\n",
    "\n",
    "z  = tofoff.normalizedTOF( tofavg, downsampleRange=(260000,280000) )\n",
    "zraw = np.copy(z)\n",
    "# thresh=0.\n",
    "# z[ z<thresh ] = 0.\n",
    "# zf,zguess = findTOFPeaks( z )\n",
    "\n",
    "# zf = zf[zguess > thresh]\n",
    "# zguess = zguess[zguess>thresh]\n",
    "\n",
    "xs = np.arange( zraw.size )\n",
    "mperq = fitPoly(xs)\n",
    "minAt = np.argmin(mperq)\n",
    "\n",
    "mperq = mperq[minAt:]\n",
    "zcalib = zraw[minAt:]\n",
    "    \n",
    "mXe = 130\n",
    "chargeNumber = 1./( mperq / mXe )\n",
    "    \n",
    "\n",
    "chargeCutoff = 50.\n",
    "plt.figure(figsize = (30,20))\n",
    "plt.plot( chargeNumber[chargeNumber < chargeCutoff], zcalib[chargeNumber < chargeCutoff] )\n",
    "plt.xticks(np.arange(chargeCutoff+1.));\n",
    "plt.grid()\n",
    "# plt.plot(zf, zguess, 'o', ms=10, color='red')\n",
    "\n",
    "plt.savefig('xenon-'+run+'-fullbeam.png',)"
   ]
  },
  {
   "cell_type": "code",
   "execution_count": null,
   "metadata": {
    "scrolled": true
   },
   "outputs": [],
   "source": [
    "%matplotlib inline \n",
    "plt.figure(figsize = (30,20))\n",
    "z225  = tofoff.normalizedTOF( tofavg, downsampleRange=(200000,300000) )\n",
    "z225 = tofavg[260000:300000]\n",
    "plt.plot(z225)"
   ]
  },
  {
   "cell_type": "markdown",
   "metadata": {},
   "source": [
    "# Average specturm when changing valve delay"
   ]
  },
  {
   "cell_type": "code",
   "execution_count": null,
   "metadata": {},
   "outputs": [],
   "source": [
    "path='/gpfs/exfel/exp/SQS/201921/p002430/raw'\n",
    "run = tofoff.runFormat( 226 )\n",
    "runData = kd.RunDirectory(path+run)\n",
    "tofavg = tofoff.tofAverager( runData )"
   ]
  },
  {
   "cell_type": "code",
   "execution_count": null,
   "metadata": {},
   "outputs": [],
   "source": [
    "from scipy.signal import find_peaks_cwt\n",
    "def findTOFPeaks( toftrace ):\n",
    "    '''\n",
    "    input:\n",
    "        toftrace: use normalized tof trace generated from normalizedTOF, numpy array of floats\n",
    "    output:\n",
    "        peak_positions: returns indexes of the TOF peaks\n",
    "        peak_values: returns height of TOF peaks\n",
    "    Watthew Ware, 2019\n",
    "    '''\n",
    "    toftrace = np.abs(toftrace)\n",
    "    base_width = 20.\n",
    "    # Find indexes of inds\n",
    "    zf = find_peaks_cwt(toftrace, [base_width])\n",
    "    \n",
    "    # Create averaging zones around peaks\n",
    "    zguess = np.zeros_like(zf).astype(float) # allocate space\n",
    "\n",
    "    for ii,zfi in enumerate(zf):\n",
    "        xlow = (np.round( zfi - base_width/2. )).astype(int)\n",
    "        if xlow < 0:\n",
    "            xlow = 0\n",
    "        xhigh = (np.round( zfi + base_width/2. )).astype(int)\n",
    "        if xhigh > toftrace.size:\n",
    "            xhigh = toftrace.size\n",
    "            \n",
    "        zguess[ii] = np.max(toftrace[xlow:xhigh])\n",
    "        \n",
    "    return zf, zguess"
   ]
  },
  {
   "cell_type": "code",
   "execution_count": null,
   "metadata": {},
   "outputs": [],
   "source": [
    "%matplotlib inline \n",
    "plt.figure(figsize = (30,20))\n",
    "\n",
    "z  = tofoff.normalizedTOF( tofavg, downsampleRange=(260000,280000) )\n",
    "zraw = np.copy(z)\n",
    "# thresh=0.\n",
    "# z[ z<thresh ] = 0.\n",
    "# zf,zguess = findTOFPeaks( z )\n",
    "\n",
    "# zf = zf[zguess > thresh]\n",
    "# zguess = zguess[zguess>thresh]\n",
    "\n",
    "xs = np.arange( zraw.size )\n",
    "mperq = fitPoly(xs)\n",
    "minAt = np.argmin(mperq)\n",
    "\n",
    "mperq = mperq[minAt:]\n",
    "zcalib = zraw[minAt:]\n",
    "    \n",
    "mXe = 130\n",
    "chargeNumber = 1./( mperq / mXe )\n",
    "    \n",
    "\n",
    "chargeCutoff = 50.\n",
    "plt.figure(figsize = (30,20))\n",
    "plt.plot( chargeNumber[chargeNumber < chargeCutoff], zcalib[chargeNumber < chargeCutoff] )\n",
    "plt.grid()\n",
    "plt.xticks(np.arange(chargeCutoff+1.));\n",
    "# plt.plot(zf, zguess, 'o', ms=10, color='red')\n"
   ]
  },
  {
   "cell_type": "code",
   "execution_count": null,
   "metadata": {},
   "outputs": [],
   "source": [
    "%matplotlib inline \n",
    "plt.figure(figsize = (30,20))\n",
    "\n",
    "z  = tofoff.normalizedTOF( tofavg, downsampleRange=(260000,280000) )\n",
    "plt.plot(z)\n"
   ]
  },
  {
   "cell_type": "code",
   "execution_count": null,
   "metadata": {},
   "outputs": [],
   "source": []
  },
  {
   "cell_type": "markdown",
   "metadata": {},
   "source": [
    "# Plot 228"
   ]
  },
  {
   "cell_type": "code",
   "execution_count": null,
   "metadata": {},
   "outputs": [],
   "source": [
    "path='/gpfs/exfel/exp/SQS/201921/p002430/raw'\n",
    "run = tofoff.runFormat( 228 )\n",
    "runData = kd.RunDirectory(path+run)\n",
    "tofavg = tofoff.tofAverager( runData )"
   ]
  },
  {
   "cell_type": "code",
   "execution_count": null,
   "metadata": {},
   "outputs": [],
   "source": [
    "from scipy.signal import find_peaks_cwt\n",
    "def findTOFPeaks( toftrace ):\n",
    "    '''\n",
    "    input:\n",
    "        toftrace: use normalized tof trace generated from normalizedTOF, numpy array of floats\n",
    "    output:\n",
    "        peak_positions: returns indexes of the TOF peaks\n",
    "        peak_values: returns height of TOF peaks\n",
    "    Watthew Ware, 2019\n",
    "    '''\n",
    "    toftrace = np.abs(toftrace)\n",
    "    base_width = 20.\n",
    "    # Find indexes of inds\n",
    "    zf = find_peaks_cwt(toftrace, [base_width])\n",
    "    \n",
    "    # Create averaging zones around peaks\n",
    "    zguess = np.zeros_like(zf).astype(float) # allocate space\n",
    "\n",
    "    for ii,zfi in enumerate(zf):\n",
    "        xlow = (np.round( zfi - base_width/2. )).astype(int)\n",
    "        if xlow < 0:\n",
    "            xlow = 0\n",
    "        xhigh = (np.round( zfi + base_width/2. )).astype(int)\n",
    "        if xhigh > toftrace.size:\n",
    "            xhigh = toftrace.size\n",
    "            \n",
    "        zguess[ii] = np.max(toftrace[xlow:xhigh])\n",
    "        \n",
    "    return zf, zguess"
   ]
  },
  {
   "cell_type": "code",
   "execution_count": null,
   "metadata": {},
   "outputs": [],
   "source": [
    "%matplotlib inline \n",
    "plt.figure(figsize = (30,20))\n",
    "\n",
    "z  = tofoff.normalizedTOF( tofavg, downsampleRange=(200000,300000) )\n",
    "zraw = np.copy(z)\n",
    "# thresh=0.\n",
    "# z[ z<thresh ] = 0.\n",
    "# zf,zguess = findTOFPeaks( z )\n",
    "\n",
    "# zf = zf[zguess > thresh]\n",
    "# zguess = zguess[zguess>thresh]\n",
    "\n",
    "xs = np.arange( zraw.size )\n",
    "mperq = fitPoly(xs)\n",
    "minAt = np.argmin(mperq)\n",
    "\n",
    "mperq = mperq[minAt:]\n",
    "zcalib = zraw[minAt:]\n",
    "    \n",
    "mXe = 130\n",
    "chargeNumber = 1./( mperq / mXe )\n",
    "    \n",
    "\n",
    "chargeCutoff = 50.\n",
    "plt.figure(figsize = (30,20))\n",
    "plt.plot( chargeNumber[chargeNumber < chargeCutoff], zcalib[chargeNumber < chargeCutoff] )\n",
    "plt.grid()\n",
    "plt.xticks(np.arange(chargeCutoff+1.));"
   ]
  },
  {
   "cell_type": "code",
   "execution_count": null,
   "metadata": {
    "scrolled": false
   },
   "outputs": [],
   "source": [
    "%matplotlib inline \n",
    "plt.figure(figsize = (30,20))\n",
    "z  = tofoff.normalizedTOF( tofavg, downsampleRange=(200000,300000) )\n",
    "z228 = tofavg[260000:300000]\n",
    "plt.plot(z228)"
   ]
  },
  {
   "cell_type": "code",
   "execution_count": null,
   "metadata": {},
   "outputs": [],
   "source": [
    "%matplotlib inline \n",
    "plt.figure(figsize = (30,20))\n",
    "plt.plot(z225, alpha=0.5)\n",
    "plt.plot(z228, alpha=0.5)"
   ]
  },
  {
   "cell_type": "code",
   "execution_count": null,
   "metadata": {},
   "outputs": [],
   "source": [
    "%matplotlib inline \n",
    "plt.figure(figsize = (30,20))\n",
    "\n",
    "xs = np.arange( z228.size )\n",
    "mperq = fitPoly(xs)\n",
    "minAt = np.argmin(mperq)\n",
    "\n",
    "mperq = mperq[minAt:]\n",
    "zcalib = z228[minAt:]\n",
    "    \n",
    "\n",
    "chargeCutoff = 50.\n",
    "plt.figure(figsize = (30,20))\n",
    "plt.plot( mperq, zcalib )"
   ]
  },
  {
   "cell_type": "code",
   "execution_count": null,
   "metadata": {},
   "outputs": [],
   "source": []
  }
 ],
 "metadata": {
  "kernelspec": {
   "display_name": "Python 3",
   "language": "python",
   "name": "python3"
  },
  "language_info": {
   "codemirror_mode": {
    "name": "ipython",
    "version": 3
   },
   "file_extension": ".py",
   "mimetype": "text/x-python",
   "name": "python",
   "nbconvert_exporter": "python",
   "pygments_lexer": "ipython3",
   "version": "3.6.7"
  }
 },
 "nbformat": 4,
 "nbformat_minor": 2
}
