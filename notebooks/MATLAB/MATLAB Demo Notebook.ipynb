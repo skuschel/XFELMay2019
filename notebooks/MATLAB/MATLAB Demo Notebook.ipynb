{
 "cells": [
  {
   "cell_type": "markdown",
   "metadata": {},
   "source": [
    "This notebook is to test and demonstrate a jupyter notebook with matlab kernel for offline analysis"
   ]
  },
  {
   "cell_type": "code",
   "execution_count": 23,
   "metadata": {},
   "outputs": [],
   "source": [
    "% INPUT\n",
    "\n",
    "raw_dir = \"/gpfs/exfel/exp/SQS/201802/p002195/raw\";\n",
    "run_no = 100;\n",
    "\n",
    "% COMPUTED\n",
    "run_str = sprintf(\"r%.4i\",run_no);\n",
    "run_dir = sprintf(\"%s/%s/\",raw_dir, run_str);\n",
    "% get the hdf5 files for the run\n",
    "hdf5_file_obj_list = dir(run_dir);\n",
    "hdf5_file_names={};\n",
    "for idx=3:size(hdf5_file_obj_list,1)\n",
    "    hdf5_file_names{idx-2} = hdf5_file_obj_list(idx).name;\n",
    "    end"
   ]
  },
  {
   "cell_type": "code",
   "execution_count": 34,
   "metadata": {},
   "outputs": [],
   "source": []
  },
  {
   "cell_type": "code",
   "execution_count": 35,
   "metadata": {},
   "outputs": [
    {
     "name": "stdout",
     "output_type": "stream",
     "text": [
      "\n",
      "hdf5_file_names =\n",
      "\n",
      "  1x33 cell array\n",
      "\n",
      "  Columns 1 through 3\n",
      "\n",
      "    {'RAW-R0100-DA01...'}    {'RAW-R0100-DA01...'}    {'RAW-R0100-DA01...'}\n",
      "\n",
      "  Columns 4 through 6\n",
      "\n",
      "    {'RAW-R0100-DA01...'}    {'RAW-R0100-DA01...'}    {'RAW-R0100-DA01...'}\n",
      "\n",
      "  Columns 7 through 9\n",
      "\n",
      "    {'RAW-R0100-DA01...'}    {'RAW-R0100-DA01...'}    {'RAW-R0100-DA01...'}\n",
      "\n",
      "  Columns 10 through 12\n",
      "\n",
      "    {'RAW-R0100-DA01...'}    {'RAW-R0100-DA01...'}    {'RAW-R0100-DA02...'}\n",
      "\n",
      "  Columns 13 through 15\n",
      "\n",
      "    {'RAW-R0100-DA02...'}    {'RAW-R0100-DA02...'}    {'RAW-R0100-DA02...'}\n",
      "\n",
      "  Columns 16 through 18\n",
      "\n",
      "    {'RAW-R0100-DA02...'}    {'RAW-R0100-DA02...'}    {'RAW-R0100-DA02...'}\n",
      "\n",
      "  Columns 19 through 21\n",
      "\n",
      "    {'RAW-R0100-DA02...'}    {'RAW-R0100-DA02...'}    {'RAW-R0100-DA02...'}\n",
      "\n",
      "  Columns 22 through 24\n",
      "\n",
      "    {'RAW-R0100-DA02...'}    {'RAW-R0100-DA04...'}    {'RAW-R0100-DA04...'}\n",
      "\n",
      "  Columns 25 through 27\n",
      "\n",
      "    {'RAW-R0100-DA04...'}    {'RAW-R0100-DA04...'}    {'RAW-R0100-DA04...'}\n",
      "\n",
      "  Columns 28 through 30\n",
      "\n",
      "    {'RAW-R0100-DA04...'}    {'RAW-R0100-DA04...'}    {'RAW-R0100-DA04...'}\n",
      "\n",
      "  Columns 31 through 33\n",
      "\n",
      "    {'RAW-R0100-DA04...'}    {'RAW-R0100-DA04...'}    {'RAW-R0100-DA04...'}\n",
      "\n"
     ]
    }
   ],
   "source": []
  },
  {
   "cell_type": "code",
   "execution_count": null,
   "metadata": {},
   "outputs": [],
   "source": []
  }
 ],
 "metadata": {
  "kernelspec": {
   "display_name": "Matlab R2018b",
   "language": "matlab",
   "name": "imatlab"
  },
  "language_info": {
   "codemirror_mode": "octave",
   "file_extension": ".m",
   "mimetype": "text/x-matlab",
   "name": "matlab",
   "nbconvert_exporter": "imatlab._exporter.MatlabExporter",
   "pygments_lexer": "matlab",
   "version": "9.5.0.944444 (R2018b)"
  }
 },
 "nbformat": 4,
 "nbformat_minor": 2
}
