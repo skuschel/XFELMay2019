{
 "cells": [
  {
   "cell_type": "markdown",
   "metadata": {},
   "source": [
    "This tutorial is working for comissioning (2430). It has not been adapted to SQS 002195 (yet), but it provides a good reference & introduction.\n",
    "\n",
    "# This tutorial probably won't work at the moment for sqs_nqs_tools\n",
    "\n",
    "Please note that as of now the xfelmay2019 module has default values for paths hard coded for comissioning (experiment 2430)."
   ]
  },
  {
   "cell_type": "code",
   "execution_count": null,
   "metadata": {},
   "outputs": [],
   "source": [
    "import xfelmay2019 as xfel\n",
    "\n",
    "# Plot options\n",
    "import matplotlib.pyplot as plt\n",
    "\n",
    "# Import required libraries\n",
    "import numpy as np\n",
    "import pyqtgraph as pg\n",
    "\n",
    "# Import karabo libraries\n",
    "import karabo_bridge as kb\n",
    "import karabo_data as kd"
   ]
  },
  {
   "cell_type": "markdown",
   "metadata": {},
   "source": [
    "# Global variables to define"
   ]
  },
  {
   "cell_type": "code",
   "execution_count": null,
   "metadata": {},
   "outputs": [],
   "source": [
    "comissioningPath='/gpfs/exfel/exp/SQS/201921/p002430/raw'\n",
    "methanePath ='/gpfs/exfel/exp/SQS/201802/p002176/raw'\n",
    "samplePath = '/gpfs/exfel/exp/SQS/201802/p002176/scratch'"
   ]
  },
  {
   "cell_type": "markdown",
   "metadata": {},
   "source": [
    "# Grab image based on tid and plot +1,0,-1 train ids from that point"
   ]
  },
  {
   "cell_type": "code",
   "execution_count": null,
   "metadata": {},
   "outputs": [],
   "source": [
    "path='/gpfs/exfel/exp/SQS/201921/p002430/raw'\n",
    "# runNum = 197\n",
    "# pid = 103160781\n",
    "runNum = 202\n",
    "tid = 103174385\n",
    "\n",
    "run = xfel.runFormat( runNum )\n",
    "runData = kd.RunDirectory(path+run)"
   ]
  },
  {
   "cell_type": "code",
   "execution_count": null,
   "metadata": {},
   "outputs": [],
   "source": [
    "dataCollection = runData.select_trains(kd.by_id[tid-2:tid+3])\n",
    "\n",
    "fig,ax = plt.subplots(3, figsize=(5,15))\n",
    "for idx,atid in enumerate(range(tid-1,tid+2)):\n",
    "    \n",
    "    data = dataCollection.train_from_id(atid)\n",
    "    image = data[1]['SQS_DPU_LIC/CAM/YAG_UPSTR:daqOutput']['data.image.pixels']\n",
    "    ax[idx].imshow(image)"
   ]
  },
  {
   "cell_type": "markdown",
   "metadata": {},
   "source": [
    "# Average image from run"
   ]
  },
  {
   "cell_type": "code",
   "execution_count": null,
   "metadata": {},
   "outputs": [],
   "source": [
    "scatMean = xfel.analyzeAverageImage( runNumber=3, path=methanePath)"
   ]
  },
  {
   "cell_type": "code",
   "execution_count": null,
   "metadata": {},
   "outputs": [],
   "source": [
    "plt.imshow(scatMean)"
   ]
  },
  {
   "cell_type": "markdown",
   "metadata": {},
   "source": [
    "# Maximum and average image from run"
   ]
  },
  {
   "cell_type": "code",
   "execution_count": null,
   "metadata": {},
   "outputs": [],
   "source": [
    "scatMax, trainId = xfel.analyzeMaximumImage(runNumber=445, path = path )"
   ]
  },
  {
   "cell_type": "markdown",
   "metadata": {},
   "source": [
    "# Twenty brightest images from run"
   ]
  },
  {
   "cell_type": "code",
   "execution_count": null,
   "metadata": {
    "scrolled": true
   },
   "outputs": [],
   "source": [
    "scatMax, trainId = xfel.analyzeMaximumImage( runNumber=445, path = path )"
   ]
  },
  {
   "cell_type": "markdown",
   "metadata": {},
   "source": [
    "# Twenty largest images from run"
   ]
  },
  {
   "cell_type": "code",
   "execution_count": null,
   "metadata": {},
   "outputs": [],
   "source": [
    "xfel.analyzeMaximumImages( runNumber=445, \n",
    "                        path='/gpfs/exfel/exp/SQS/201921/p002430/raw',\n",
    "                        maskRadius=100,\n",
    "                        nlargest=10 )"
   ]
  },
  {
   "cell_type": "markdown",
   "metadata": {},
   "source": [
    "# Histogram to measure single photon level"
   ]
  },
  {
   "cell_type": "code",
   "execution_count": null,
   "metadata": {},
   "outputs": [],
   "source": [
    "runNum = 4\n",
    "images, tids = xfel.allImages(runNum, path=methanePath)"
   ]
  },
  {
   "cell_type": "code",
   "execution_count": null,
   "metadata": {},
   "outputs": [],
   "source": [
    "xfel.plotWithCircularMask( images[0,:,:].squeeze(), maskRadius=500 )"
   ]
  },
  {
   "cell_type": "code",
   "execution_count": null,
   "metadata": {},
   "outputs": [],
   "source": [
    "xfel.histWithCircularMask( images[3,:,:].squeeze(), maskRadius=500, nbins=1000 )\n",
    "plt.ylim([0,1e5])\n",
    "plt.xlabel('ADU')\n",
    "plt.ylabel('counts')"
   ]
  },
  {
   "cell_type": "code",
   "execution_count": null,
   "metadata": {},
   "outputs": [],
   "source": []
  }
 ],
 "metadata": {
  "kernelspec": {
   "display_name": "Python 3",
   "language": "python",
   "name": "python3"
  },
  "language_info": {
   "codemirror_mode": {
    "name": "ipython",
    "version": 3
   },
   "file_extension": ".py",
   "mimetype": "text/x-python",
   "name": "python",
   "nbconvert_exporter": "python",
   "pygments_lexer": "ipython3",
   "version": "3.6.7"
  }
 },
 "nbformat": 4,
 "nbformat_minor": 2
}
