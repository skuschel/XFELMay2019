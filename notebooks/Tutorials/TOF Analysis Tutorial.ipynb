{
 "cells": [
  {
   "cell_type": "markdown",
   "metadata": {},
   "source": [
    "nearly fully tested with sqs_nqs_tools"
   ]
  },
  {
   "cell_type": "code",
   "execution_count": null,
   "metadata": {},
   "outputs": [],
   "source": [
    "import sqs_nqs_tools as tools\n",
    "from sqs_nqs_tools.offline import adata, access, tof\n",
    "\n",
    "# Plot options\n",
    "import matplotlib.pyplot as plt\n",
    "\n",
    "# Import required libraries\n",
    "import numpy as np\n",
    "import pyqtgraph as pg\n",
    "\n",
    "# Import karabo libraries\n",
    "import karabo_bridge as kb\n",
    "import karabo_data as kd"
   ]
  },
  {
   "cell_type": "markdown",
   "metadata": {},
   "source": [
    "# Global Variables to define"
   ]
  },
  {
   "cell_type": "code",
   "execution_count": null,
   "metadata": {},
   "outputs": [],
   "source": [
    "raw_path='/gpfs/exfel/exp/SQS/201921/p002430/raw'\n",
    "\n",
    "# ***WILL NEED TO BE UPDATED WITH NEON AND METHANE CLUSTERS***\n",
    "\n",
    "tofrange = (260000,285000)\n",
    "pixels = np.arange( tofrange[0], tofrange[1] )\n",
    "\n",
    "#Regions of interest for Xenon cluster spectra.  \n",
    "onePlus=(280000 - 1000,280000 + 1500)       \n",
    "lightPeak=(266000 - 200,266000 + 100)       \n",
    "highCharge=(269000 - 200, 276000)"
   ]
  },
  {
   "cell_type": "markdown",
   "metadata": {},
   "source": [
    "# General "
   ]
  },
  {
   "cell_type": "code",
   "execution_count": null,
   "metadata": {},
   "outputs": [],
   "source": [
    "#  help(xfel) lists all functions in xfel\n",
    "\n",
    "#this gives pixels (the x-axis) for the TOF spectra, TOF spectra array, and the train ID for a given run\n",
    "runNumber = 400\n",
    "tof400, pixels= adata.getTOF( runNumber, path = raw_path , tofrange=(260000,285000) )\n",
    "\n",
    "tids400 = tof400.trainId\n",
    "\n",
    "#this gives an array of train ideas for a given run\n",
    "trainIds = access.getTrainIds(raw_path + access.runFormat(runNumber))"
   ]
  },
  {
   "cell_type": "code",
   "execution_count": null,
   "metadata": {},
   "outputs": [],
   "source": []
  },
  {
   "cell_type": "markdown",
   "metadata": {},
   "source": [
    "# Plotting a Single TOF Spectrum with ROI defined"
   ]
  },
  {
   "cell_type": "code",
   "execution_count": null,
   "metadata": {},
   "outputs": [],
   "source": [
    "#specify run data\n",
    "runNumber = 400\n",
    "\n",
    "#accessing all data of a given run\n",
    "runData = kd.RunDirectory(raw_path+ access.runFormat(runNumber))\n",
    "\n",
    "#getting the TOF data from the run\n",
    "tof400 = np.asarray(runData.get_array( 'SQS_DIGITIZER_UTC1/ADC/1:network','digitizers.channel_1_A.raw.samples' ))[ : , tofrange[0]:tofrange[1] ]\n"
   ]
  },
  {
   "cell_type": "markdown",
   "metadata": {},
   "source": [
    "### Example 1: plotting a single TOF spectrum - average spectrum of run 400"
   ]
  },
  {
   "cell_type": "code",
   "execution_count": null,
   "metadata": {},
   "outputs": [],
   "source": [
    "#averaging all TOF data of a given run\n",
    "avgtof = tof.averageTOF(tof400) \n",
    "\n",
    "#plotting a single TOF spectrum\n",
    "tof.plotTOF(pixels, avgtof)"
   ]
  },
  {
   "cell_type": "markdown",
   "metadata": {},
   "source": [
    "###  Example 2: plotting the average of all TOF spectra from run 400, with ROI"
   ]
  },
  {
   "cell_type": "code",
   "execution_count": null,
   "metadata": {},
   "outputs": [],
   "source": [
    "#averaging all TOF data of a given run\n",
    "avgtof = tof.averageTOF(tof400) \n",
    "\n",
    "#plotting the averaged TOF data with ROI's labeled\n",
    "tof.showROIs( pixels, avgtof, \n",
    "         onePlus=onePlus, \n",
    "         lightPeak=lightPeak,\n",
    "         highCharge=highCharge )\n"
   ]
  },
  {
   "cell_type": "markdown",
   "metadata": {},
   "source": [
    "###  Example 3: plotting the average of the brightest TOF spectra from run 400, with ROI"
   ]
  },
  {
   "cell_type": "code",
   "execution_count": null,
   "metadata": {},
   "outputs": [],
   "source": [
    "#averaging the brightest TOF data of a given run\n",
    "brighttof = tof.averageBrightestTOFs(pixels, tof400) \n",
    "\n",
    "#plotting the averaged bright TOF data with ROI's labeled\n",
    "tof.showROIs( pixels, brighttof, \n",
    "         onePlus=onePlus, \n",
    "         lightPeak=lightPeak,\n",
    "         highCharge=highCharge )"
   ]
  },
  {
   "cell_type": "markdown",
   "metadata": {},
   "source": [
    "# Comparing TOF spectra from multiple runs\n",
    "\n",
    "    Looking at the average of the brightest spectra and labeling with respect to pressure"
   ]
  },
  {
   "cell_type": "code",
   "execution_count": null,
   "metadata": {},
   "outputs": [],
   "source": [
    "#extracting pixel axis, TOF data, and TID \n",
    "tof400,pixels = adata.getTOF( 400, path = raw_path , tofrange=(260000,285000) )\n",
    "tof401,pixels = adata.getTOF( 401, path = raw_path , tofrange=(260000,285000) )\n",
    "tof404,pixels = adata.getTOF( 404, path = raw_path , tofrange=(260000,285000) )"
   ]
  },
  {
   "cell_type": "markdown",
   "metadata": {},
   "source": [
    "### Averaging the brightest TOF spectra from specified runs"
   ]
  },
  {
   "cell_type": "code",
   "execution_count": null,
   "metadata": {},
   "outputs": [],
   "source": [
    "#getting average TOF spectra from the brightest of each of the specfied runs\n",
    "bright400 = tof.averageBrightestTOFs(pixels, tof400)\n",
    "bright401 = tof.averageBrightestTOFs(pixels, tof401)\n",
    "bright404 = tof.averageBrightestTOFs(pixels, tof404)"
   ]
  },
  {
   "cell_type": "markdown",
   "metadata": {},
   "source": [
    "### Can compare in waterfall plots"
   ]
  },
  {
   "cell_type": "code",
   "execution_count": null,
   "metadata": {},
   "outputs": [],
   "source": [
    "#plotting these averages as waterfall\n",
    "tof.waterfallTOFs( pixels, [bright404, bright400,bright401], labels=['6 bar, 404','10 bar, 400','13.9 bar, 401'] )"
   ]
  },
  {
   "cell_type": "markdown",
   "metadata": {},
   "source": [
    "### Can compare overlaying spectra"
   ]
  },
  {
   "cell_type": "code",
   "execution_count": null,
   "metadata": {},
   "outputs": [],
   "source": [
    "#plotting these averages, overlayed\n",
    "tof.overlayTOFs( pixels, [bright404,bright400,bright401], labels=['6 bar, 404','10 bar, 400','13.9 bar, 401'] )"
   ]
  },
  {
   "cell_type": "markdown",
   "metadata": {},
   "source": [
    "# Make a waterfall plot of the brightest TOF spectra for run 437, labeled with TID"
   ]
  },
  {
   "cell_type": "code",
   "execution_count": null,
   "metadata": {},
   "outputs": [],
   "source": [
    "tof437, pixels = adata.getTOF( 437, path = raw_path , tofrange=(260000,285000) )"
   ]
  },
  {
   "cell_type": "code",
   "execution_count": null,
   "metadata": {},
   "outputs": [],
   "source": [
    "# Choose the region of interest to use to sort the brightest\n",
    "# can set onePlus to onePlus, lightPeak, or highCharge, which are defined at the top\n",
    "# in this case, we are sorting by the X+ peak\n",
    "\n",
    "#help(xfel.waterfallBrightest_labelByTrainId)\n",
    "\n",
    "interestingTIDS437 = tof.waterfallBrightest_labelByTrainId( pixels, tof437, nbright=100, integrateAt=onePlus)"
   ]
  },
  {
   "cell_type": "code",
   "execution_count": null,
   "metadata": {},
   "outputs": [],
   "source": []
  },
  {
   "cell_type": "markdown",
   "metadata": {},
   "source": [
    "# Make a waterfall plot of the brightest TOF spectra for run 437"
   ]
  },
  {
   "cell_type": "code",
   "execution_count": null,
   "metadata": {},
   "outputs": [],
   "source": [
    "tof437, pixels = adata.getTOF( 437, path = raw_path , tofrange=(260000,285000) )"
   ]
  },
  {
   "cell_type": "code",
   "execution_count": null,
   "metadata": {},
   "outputs": [],
   "source": [
    "interesting437 = tof.waterfallBrightest(pixels, tof437, integrateAt=onePlus)"
   ]
  },
  {
   "cell_type": "markdown",
   "metadata": {},
   "source": [
    "# Waterfall of Brightest TOFs averaged, labeled by run number"
   ]
  },
  {
   "cell_type": "code",
   "execution_count": null,
   "metadata": {},
   "outputs": [],
   "source": [
    "runRange = np.arange(413, 415)\n",
    "\n",
    "#getting averages of brightest TOFs from the runs specified above\n",
    "avgtogs = tof.getBrightAvgRunsTOF (runRange, raw_path, tofrange, integrateAt = highCharge)"
   ]
  },
  {
   "cell_type": "code",
   "execution_count": null,
   "metadata": {},
   "outputs": [],
   "source": [
    "#making a waterfall plot of the average TOFS, labeled by run number\n",
    "\n",
    "#remove waterfallDelta =, and traces will separate automatically such that they are not overlapping\n",
    "tof.waterfallTOFs(pixels, avgtogs, labels = [str(arun) for arun in runRange], waterfallDelta = -1000)"
   ]
  },
  {
   "cell_type": "code",
   "execution_count": null,
   "metadata": {},
   "outputs": [],
   "source": [
    "help(tof.waterfallTOFs)"
   ]
  },
  {
   "cell_type": "markdown",
   "metadata": {},
   "source": [
    "# Plot against scan variable"
   ]
  },
  {
   "cell_type": "code",
   "execution_count": null,
   "metadata": {},
   "outputs": [],
   "source": [
    "#specifying range of runs\n",
    "runRange =np.array([263, 266, 267, 268])\n",
    "\n",
    "#choosing scan variable to plot against\n",
    "scanVar = np.array([np.mean(adata.getChamberHeight( run , raw_path )[1]) for run in runRange])\n"
   ]
  },
  {
   "cell_type": "code",
   "execution_count": null,
   "metadata": {},
   "outputs": [],
   "source": [
    "#index of sorted list\n",
    "inds =  np.argsort(scanVar)"
   ]
  },
  {
   "cell_type": "code",
   "execution_count": null,
   "metadata": {},
   "outputs": [],
   "source": [
    "#averaging the brightest TOFs over a range of runs\n",
    "avgtofs = tof.getBrightAvgRunsTOF( runRange, raw_path, tofrange, integrateAt=highCharge )"
   ]
  },
  {
   "cell_type": "code",
   "execution_count": null,
   "metadata": {},
   "outputs": [],
   "source": [
    "#sorting the averaged TOFs by specified variable in a waterfall plot, and labeling run number\n",
    "tof.waterfallTOFs( pixels, np.array(avgtofs)[inds,:], labels=['%d, %0.3f'%(arun, avar) for arun,avar in zip(runRange, scanVar[inds])], waterfallDelta = -100 )"
   ]
  },
  {
   "cell_type": "code",
   "execution_count": null,
   "metadata": {},
   "outputs": [],
   "source": [
    "#plotting integrated region of interest (highCharge, light peak, and onePlus) against the scan variable\n",
    "plt.plot( scanVar, tof.tofROI( pixels, np.array(avgtofs), roi=highCharge ))\n",
    "plt.ylabel('Integrated high charge')\n",
    "plt.xlabel('Scan height')"
   ]
  },
  {
   "cell_type": "markdown",
   "metadata": {},
   "source": [
    "# Plot against scan variable within a single run\n",
    "**This part has not successfully been tested with sqs_nqs_tools** but it should work in principle"
   ]
  },
  {
   "cell_type": "code",
   "execution_count": null,
   "metadata": {},
   "outputs": [],
   "source": [
    "#specifying range of runs\n",
    "runNum = 107\n",
    "\n",
    "#choosing scan variable to plot against\n",
    "stid, scanVar = adata.getSrcValveDelay( runNum , path=raw_path )"
   ]
  },
  {
   "cell_type": "code",
   "execution_count": null,
   "metadata": {
    "scrolled": true
   },
   "outputs": [],
   "source": [
    "PEs = adata.getPulseEnergies( runNum ,  path=raw_path,dataPath='data.intensityTD' )\n",
    "PEs=PEs[:,0]\n",
    "ptid = PEs.trainId"
   ]
  },
  {
   "cell_type": "code",
   "execution_count": null,
   "metadata": {},
   "outputs": [],
   "source": [
    "plt.hist(PEs,bins=100);"
   ]
  },
  {
   "cell_type": "code",
   "execution_count": null,
   "metadata": {},
   "outputs": [],
   "source": [
    "sub_ptid = ptid[(PEs>2400)&(PEs<2600)]\n",
    "sub_PEs  = PEs[(PEs>2400)&(PEs<2600)]"
   ]
  },
  {
   "cell_type": "code",
   "execution_count": null,
   "metadata": {},
   "outputs": [],
   "source": [
    "_,sinds,pinds = np.intersect1d( stid, sub_ptid,  return_indices=True) # not working on ONC due to too old numpy (1.14 this requires at least 1.15)"
   ]
  },
  {
   "cell_type": "code",
   "execution_count": null,
   "metadata": {},
   "outputs": [],
   "source": [
    "scanVar = scanVar[sinds]\n",
    "stid = stid[sinds]"
   ]
  },
  {
   "cell_type": "code",
   "execution_count": null,
   "metadata": {},
   "outputs": [],
   "source": [
    "plt.hist(scanVar, bins=100);\n",
    "plt.xlabel('Scan variable')\n",
    "plt.ylabel('Counts')"
   ]
  },
  {
   "cell_type": "markdown",
   "metadata": {},
   "source": [
    "## Identify unique scan positions"
   ]
  },
  {
   "cell_type": "code",
   "execution_count": null,
   "metadata": {},
   "outputs": [],
   "source": [
    "uniqueVar = np.unique(scanVar)"
   ]
  },
  {
   "cell_type": "markdown",
   "metadata": {},
   "source": [
    "## Get TOF positions"
   ]
  },
  {
   "cell_type": "code",
   "execution_count": null,
   "metadata": {},
   "outputs": [],
   "source": [
    "tof, pixels = adata.getTOF( runNum, path = raw_path , tofrange=(260000,285000) )\n",
    "ttid = tof.trainId"
   ]
  },
  {
   "cell_type": "markdown",
   "metadata": {},
   "source": [
    "## Intersect the tids for the scan var and the tof"
   ]
  },
  {
   "cell_type": "code",
   "execution_count": null,
   "metadata": {},
   "outputs": [],
   "source": [
    "_,sinds,tinds = np.intersect1d( stid, ttid,  return_indices=True)\n",
    "subtof = tof[tinds,:]\n",
    "subvar = scanVar[sinds]"
   ]
  },
  {
   "cell_type": "code",
   "execution_count": null,
   "metadata": {},
   "outputs": [],
   "source": [
    "avgtofs = []\n",
    "for el in uniqueVar:\n",
    "    inds = (subvar == el)\n",
    "    avgtofs.append( tof.averageBrightestTOFs(pixels, subtof[inds,:], integrateAt=highCharge, behlkeAt=265000))"
   ]
  },
  {
   "cell_type": "markdown",
   "metadata": {},
   "source": [
    "## Waterfall the average brightest TOFs versus waterfall"
   ]
  },
  {
   "cell_type": "code",
   "execution_count": null,
   "metadata": {},
   "outputs": [],
   "source": [
    "tof.waterfallTOFs( pixels, np.array(avgtofs), labels=['%0.1f'%(avar) for avar in uniqueVar], waterfallDelta = -50 )\n",
    "plt.ylim([0,-400])\n",
    "plt.title('Average brightest TOFs vs. pulse delay')\n"
   ]
  },
  {
   "cell_type": "code",
   "execution_count": null,
   "metadata": {},
   "outputs": [],
   "source": [
    "avgtofs = []\n",
    "for el in uniqueVar:\n",
    "    inds = (subvar == el)\n",
    "#     avgtofs.append( xfel.averageBrightestTOFs(pixels, subtof[inds,:], integrateAt=highCharge, behlkeAt=265000))\n",
    "    avgtofs.append( tof.averageTOF(subtof[inds,:]))"
   ]
  },
  {
   "cell_type": "markdown",
   "metadata": {},
   "source": [
    "## Waterfall the average TOFs versus waterfall"
   ]
  },
  {
   "cell_type": "code",
   "execution_count": null,
   "metadata": {},
   "outputs": [],
   "source": [
    "tof.waterfallTOFs( pixels, np.array(avgtofs), labels=['%0.1f'%(avar) for avar in uniqueVar], waterfallDelta = -50 )\n",
    "plt.ylim([0,-400])\n",
    "plt.title('Average TOFs vs. pulse delay')\n"
   ]
  },
  {
   "cell_type": "markdown",
   "metadata": {},
   "source": [
    "## Plot integrated high charge vs. scan delay"
   ]
  },
  {
   "cell_type": "code",
   "execution_count": null,
   "metadata": {},
   "outputs": [],
   "source": [
    "plt.plot( uniqueVar, tof.tofROI( pixels, np.array(avgtofs), roi=highCharge ))\n",
    "plt.ylabel('Integrated high charge')\n",
    "plt.xlabel('Scan delay')"
   ]
  },
  {
   "cell_type": "markdown",
   "metadata": {},
   "source": [
    "## Plot Pulse energy versus scan delay"
   ]
  },
  {
   "cell_type": "code",
   "execution_count": null,
   "metadata": {},
   "outputs": [],
   "source": [
    "plt.scatter(scanVar, sub_PEs[pinds] )\n",
    "plt.ylabel('Pulse energy')\n",
    "plt.xlabel('Scan delay')"
   ]
  },
  {
   "cell_type": "markdown",
   "metadata": {},
   "source": [
    "# XGM data for run"
   ]
  },
  {
   "cell_type": "code",
   "execution_count": null,
   "metadata": {},
   "outputs": [],
   "source": [
    "Path ='/gpfs/exfel/exp/SQS/201802/p002176/raw'\n",
    "\n",
    "run = access.runFormat( 99 )\n",
    "runData = kd.RunDirectory(Path+run)\n",
    "pulse_E = np.asarray(runData.get_array('SA3_XTD10_XGM/XGM/DOOCS:output','data.intensityTD' ))\n",
    "\n",
    "train=pulse_E[1,:]\n",
    "pos=max(enumerate(train), key=(lambda a: a[1]))\n",
    "\n",
    "pulse_E=pulse_E[:,pos[0]]\n",
    "plt.plot(pulse_E)\n",
    "plt.show()\n",
    "#np.average(pulse_E)"
   ]
  }
 ],
 "metadata": {
  "kernelspec": {
   "display_name": "Python 3",
   "language": "python",
   "name": "python3"
  },
  "language_info": {
   "codemirror_mode": {
    "name": "ipython",
    "version": 3
   },
   "file_extension": ".py",
   "mimetype": "text/x-python",
   "name": "python",
   "nbconvert_exporter": "python",
   "pygments_lexer": "ipython3",
   "version": "3.6.7"
  }
 },
 "nbformat": 4,
 "nbformat_minor": 2
}
